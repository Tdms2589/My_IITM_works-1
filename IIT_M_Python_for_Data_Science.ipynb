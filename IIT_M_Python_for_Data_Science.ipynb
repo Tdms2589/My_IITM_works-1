{
  "nbformat": 4,
  "nbformat_minor": 0,
  "metadata": {
    "colab": {
      "name": "IIT-M_Python_for_Data_Science.ipynb",
      "provenance": [],
      "collapsed_sections": [],
      "authorship_tag": "ABX9TyOe3LRMJrs3EyzgepsVfZwO",
      "include_colab_link": true
    },
    "kernelspec": {
      "name": "python3",
      "display_name": "Python 3"
    },
    "language_info": {
      "name": "python"
    }
  },
  "cells": [
    {
      "cell_type": "markdown",
      "metadata": {
        "id": "view-in-github",
        "colab_type": "text"
      },
      "source": [
        "<a href=\"https://colab.research.google.com/github/abm4github/My_IITM_works/blob/main/IIT_M_Python_for_Data_Science.ipynb\" target=\"_parent\"><img src=\"https://colab.research.google.com/assets/colab-badge.svg\" alt=\"Open In Colab\"/></a>"
      ]
    },
    {
      "cell_type": "markdown",
      "source": [
        "#Python for Data Science\n",
        "##Foundational Course, IIT-M, B.Sc. in Programming and Data Science"
      ],
      "metadata": {
        "id": "keTfzpHOEnCy"
      }
    },
    {
      "cell_type": "markdown",
      "source": [
        "This google colab is meant for the students of IIT-M, B.Sc. in Programming and Data Science. It is based on the syllabus of the year 2022.\n",
        "\n",
        "Disclaimer: This is not an official notes by IIT-M, it is prepared by a student of IIT-M. Therefore the mistakes, if any in this colab are not attributed to IIT-M"
      ],
      "metadata": {
        "id": "xpgW2lFMEouY"
      }
    },
    {
      "cell_type": "markdown",
      "source": [
        "##print() Statement"
      ],
      "metadata": {
        "id": "Awrv8VkXN_C2"
      }
    },
    {
      "cell_type": "code",
      "execution_count": null,
      "metadata": {
        "colab": {
          "base_uri": "https://localhost:8080/"
        },
        "id": "krcQPYHbEEcT",
        "outputId": "763334df-063d-4681-9301-dc8734eec43b"
      },
      "outputs": [
        {
          "output_type": "stream",
          "name": "stdout",
          "text": [
            "1+2=5\n",
            "3\n",
            "Let's get started\n",
            "\n",
            "Hi, I am Abdullah Bin Mohammed,\n",
            "from India, This is my 'Introduction to Python' course.\n",
            "      __...--~~~~~-._   _.-~~~~~--...__\n",
            "    // Let's         `V'               \\ \n",
            "   //          Learn  |    Python       \\ \n",
            "  //__...--~~~~~~-._  |  _.-~~~~~~--...__\\ \n",
            " //__.....----~~~~._\\ | /_.~~~~----.....__\\\n",
            "====================\\|//====================\n",
            "                    `---`\n"
          ]
        }
      ],
      "source": [
        "#Let us see the different ways to use print() statement\n",
        "\n",
        "#Using ' '\n",
        "print('1+2=5')\n",
        "\n",
        "#Using NO quotes\n",
        "print(1+2)\n",
        "\n",
        "#Using \" \"\n",
        "print(\"Let's get started\")\n",
        "\n",
        "#Using ''' '''\n",
        "print('''\n",
        "Hi, I am Abdullah Bin Mohammed,\n",
        "from India, This is my 'Introduction to Python' course.\n",
        "      __...--~~~~~-._   _.-~~~~~--...__\n",
        "    // Let's         `V'               \\\\ \n",
        "   //          Learn  |    Python       \\\\ \n",
        "  //__...--~~~~~~-._  |  _.-~~~~~~--...__\\\\ \n",
        " //__.....----~~~~._\\ | /_.~~~~----.....__\\\\\n",
        "====================\\\\|//====================\n",
        "                    `---`''')"
      ]
    },
    {
      "cell_type": "markdown",
      "source": [
        "###Observations: print() statement"
      ],
      "metadata": {
        "id": "ED4EDCHmNaaI"
      }
    },
    {
      "cell_type": "markdown",
      "source": [
        "1. Whatever is typed in between two single quotes ' ' is printed as it is in the output even if it is illogical. Here, it is printed that the sum of 1 and 2 as 5.\n",
        "\n",
        "2. Whatever is given print() statement without quotes is calculated/ processed befor it ouputs.\n",
        "\n",
        "3. If we use single quote as a part of out sentence/statement, then double quotes are used at the start and at the end, inside a print() statement.\n",
        "Example: \"Adam's progeny\".\n",
        "\n",
        "4. If we want something to be printed as it is, in multiple lines we can use 3 single quotes both at the start and at the end, inside a print statement.\n"
      ],
      "metadata": {
        "id": "JZIEEF0IUWMb"
      }
    },
    {
      "cell_type": "markdown",
      "source": [
        "###Undesirable results: print() statement"
      ],
      "metadata": {
        "id": "xlG1zks9aA5e"
      }
    },
    {
      "cell_type": "code",
      "source": [
        "#As we provide NO quotes, it tried to process it, but it already received\n",
        "# expression, therefore it throws an error note. (syntax)\n",
        "\n",
        "print(1+2=3)"
      ],
      "metadata": {
        "colab": {
          "base_uri": "https://localhost:8080/",
          "height": 135
        },
        "id": "XnVDhFMdLsWN",
        "outputId": "eadd90f9-847d-48b2-c435-ea379e2f94c1"
      },
      "execution_count": null,
      "outputs": [
        {
          "output_type": "error",
          "ename": "SyntaxError",
          "evalue": "ignored",
          "traceback": [
            "\u001b[0;36m  File \u001b[0;32m\"<ipython-input-54-ef661f39a3b1>\"\u001b[0;36m, line \u001b[0;32m4\u001b[0m\n\u001b[0;31m    print(1+2=3)\u001b[0m\n\u001b[0m         ^\u001b[0m\n\u001b[0;31mSyntaxError\u001b[0m\u001b[0;31m:\u001b[0m keyword can't be an expression\n"
          ]
        }
      ]
    },
    {
      "cell_type": "code",
      "source": [
        "#It prints as it is without processing/calculating 1+2 as it is provided betweem quotes (single or double)\n",
        "print(\"1+2\")"
      ],
      "metadata": {
        "id": "KnXTDbACc2jD"
      },
      "execution_count": null,
      "outputs": []
    },
    {
      "cell_type": "code",
      "source": [
        "#Confused with single and double quotes: It takes 'let' as a sentence and remaining all makes no sense to it\n",
        "print('Let's get started')"
      ],
      "metadata": {
        "colab": {
          "base_uri": "https://localhost:8080/",
          "height": 135
        },
        "id": "3-Lr9Lgzdjmn",
        "outputId": "16884896-ad1e-4c77-bab7-17d576285837"
      },
      "execution_count": null,
      "outputs": [
        {
          "output_type": "error",
          "ename": "SyntaxError",
          "evalue": "ignored",
          "traceback": [
            "\u001b[0;36m  File \u001b[0;32m\"<ipython-input-55-ccc0c1e4ade2>\"\u001b[0;36m, line \u001b[0;32m2\u001b[0m\n\u001b[0;31m    print('Let's get started')\u001b[0m\n\u001b[0m               ^\u001b[0m\n\u001b[0;31mSyntaxError\u001b[0m\u001b[0;31m:\u001b[0m invalid syntax\n"
          ]
        }
      ]
    },
    {
      "cell_type": "code",
      "source": [
        "#If triple quotes replaced with double/ single quotes, it cannot print\n",
        "# multiple lines especially the ones with combination of single and double quotes.\n",
        "print(\"\n",
        "Hi, I am Abdullah Bin Mohammed,\n",
        "from India, This is my 'Introduction to Python' course.\n",
        "      __...--~~~~~-._   _.-~~~~~--...__\n",
        "    // Let's         `V'               \\\\ \n",
        "   //          Learn  |    Python       \\\\ \n",
        "  //__...--~~~~~~-._  |  _.-~~~~~~--...__\\\\ \n",
        " //__.....----~~~~._\\ | /_.~~~~----.....__\\\\\n",
        "====================\\\\|//====================\n",
        "                    `---`\")"
      ],
      "metadata": {
        "colab": {
          "base_uri": "https://localhost:8080/",
          "height": 135
        },
        "id": "XuU6muRkeh2D",
        "outputId": "ba3eacdc-2b4b-41d3-a2a5-d5994acbd09a"
      },
      "execution_count": null,
      "outputs": [
        {
          "output_type": "error",
          "ename": "SyntaxError",
          "evalue": "ignored",
          "traceback": [
            "\u001b[0;36m  File \u001b[0;32m\"<ipython-input-56-4818711eca39>\"\u001b[0;36m, line \u001b[0;32m3\u001b[0m\n\u001b[0;31m    print(\"\u001b[0m\n\u001b[0m           ^\u001b[0m\n\u001b[0;31mSyntaxError\u001b[0m\u001b[0;31m:\u001b[0m EOL while scanning string literal\n"
          ]
        }
      ]
    },
    {
      "cell_type": "code",
      "source": [
        "#Case sensitive: Print() != print(), the latter is correct and the former is\n",
        "# incorrect as it contains P instead of p\n",
        "Print('Python')"
      ],
      "metadata": {
        "colab": {
          "base_uri": "https://localhost:8080/",
          "height": 208
        },
        "id": "tOCs878zqgSC",
        "outputId": "297ccf4d-2000-4312-f1dd-8cffbe0d699f"
      },
      "execution_count": null,
      "outputs": [
        {
          "output_type": "error",
          "ename": "NameError",
          "evalue": "ignored",
          "traceback": [
            "\u001b[0;31m---------------------------------------------------------------------------\u001b[0m",
            "\u001b[0;31mNameError\u001b[0m                                 Traceback (most recent call last)",
            "\u001b[0;32m<ipython-input-57-0110e0e3b81d>\u001b[0m in \u001b[0;36m<module>\u001b[0;34m()\u001b[0m\n\u001b[1;32m      1\u001b[0m \u001b[0;31m#Case sensitive: Print() != print(), the latter is correct and the former is\u001b[0m\u001b[0;34m\u001b[0m\u001b[0;34m\u001b[0m\u001b[0;34m\u001b[0m\u001b[0m\n\u001b[1;32m      2\u001b[0m \u001b[0;31m# incorrect as it contains P instead of p\u001b[0m\u001b[0;34m\u001b[0m\u001b[0;34m\u001b[0m\u001b[0;34m\u001b[0m\u001b[0m\n\u001b[0;32m----> 3\u001b[0;31m \u001b[0mPrint\u001b[0m\u001b[0;34m(\u001b[0m\u001b[0;34m'Python'\u001b[0m\u001b[0;34m)\u001b[0m\u001b[0;34m\u001b[0m\u001b[0;34m\u001b[0m\u001b[0m\n\u001b[0m",
            "\u001b[0;31mNameError\u001b[0m: name 'Print' is not defined"
          ]
        }
      ]
    },
    {
      "cell_type": "markdown",
      "source": [
        "###Additional information: print() statement\n",
        "\n",
        "*  Activity\n",
        "*  Analyse/understand them on your own"
      ],
      "metadata": {
        "id": "M7jWpt4_f2V2"
      }
    },
    {
      "cell_type": "code",
      "source": [
        "a = 10\n",
        "print(a)\n",
        "print(f'The value of a is {a}')"
      ],
      "metadata": {
        "colab": {
          "base_uri": "https://localhost:8080/"
        },
        "id": "fuzY83bDfugT",
        "outputId": "7210d543-ae02-42cb-e2ad-889455de8a12"
      },
      "execution_count": null,
      "outputs": [
        {
          "output_type": "stream",
          "name": "stdout",
          "text": [
            "10\n",
            "The value of a is 10\n"
          ]
        }
      ]
    },
    {
      "cell_type": "code",
      "source": [
        "print{\"python\"}"
      ],
      "metadata": {
        "colab": {
          "base_uri": "https://localhost:8080/",
          "height": 135
        },
        "id": "dKjitSa3h1NQ",
        "outputId": "486dacf2-7c90-4e21-a085-551a84d9d30e"
      },
      "execution_count": null,
      "outputs": [
        {
          "output_type": "error",
          "ename": "SyntaxError",
          "evalue": "ignored",
          "traceback": [
            "\u001b[0;36m  File \u001b[0;32m\"<ipython-input-59-c519a24fe53a>\"\u001b[0;36m, line \u001b[0;32m1\u001b[0m\n\u001b[0;31m    print{\"python\"}\u001b[0m\n\u001b[0m         ^\u001b[0m\n\u001b[0;31mSyntaxError\u001b[0m\u001b[0;31m:\u001b[0m invalid syntax\n"
          ]
        }
      ]
    },
    {
      "cell_type": "code",
      "source": [
        "print[\"python\"]"
      ],
      "metadata": {
        "colab": {
          "base_uri": "https://localhost:8080/",
          "height": 171
        },
        "id": "_8JLIUxph8ik",
        "outputId": "4e233de5-9358-4ca9-9a0a-b46d808df674"
      },
      "execution_count": null,
      "outputs": [
        {
          "output_type": "error",
          "ename": "TypeError",
          "evalue": "ignored",
          "traceback": [
            "\u001b[0;31m---------------------------------------------------------------------------\u001b[0m",
            "\u001b[0;31mTypeError\u001b[0m                                 Traceback (most recent call last)",
            "\u001b[0;32m<ipython-input-60-de56f7e92550>\u001b[0m in \u001b[0;36m<module>\u001b[0;34m()\u001b[0m\n\u001b[0;32m----> 1\u001b[0;31m \u001b[0mprint\u001b[0m\u001b[0;34m[\u001b[0m\u001b[0;34m\"python\"\u001b[0m\u001b[0;34m]\u001b[0m\u001b[0;34m\u001b[0m\u001b[0;34m\u001b[0m\u001b[0m\n\u001b[0m",
            "\u001b[0;31mTypeError\u001b[0m: 'builtin_function_or_method' object is not subscriptable"
          ]
        }
      ]
    },
    {
      "cell_type": "code",
      "source": [
        "print<\"python\">"
      ],
      "metadata": {
        "colab": {
          "base_uri": "https://localhost:8080/",
          "height": 135
        },
        "id": "jV0lRxfzh8TB",
        "outputId": "9e4dc303-2262-48a9-db39-98544159c87a"
      },
      "execution_count": null,
      "outputs": [
        {
          "output_type": "error",
          "ename": "SyntaxError",
          "evalue": "ignored",
          "traceback": [
            "\u001b[0;36m  File \u001b[0;32m\"<ipython-input-61-7b1b6eade9de>\"\u001b[0;36m, line \u001b[0;32m1\u001b[0m\n\u001b[0;31m    print<\"python\">\u001b[0m\n\u001b[0m                   ^\u001b[0m\n\u001b[0;31mSyntaxError\u001b[0m\u001b[0;31m:\u001b[0m invalid syntax\n"
          ]
        }
      ]
    },
    {
      "cell_type": "code",
      "source": [
        "#new line character '\\n'\n",
        "print(\"End of Print() statement\\nLet's now learn Input() statement\")"
      ],
      "metadata": {
        "colab": {
          "base_uri": "https://localhost:8080/"
        },
        "id": "xmbVOqUdrS1q",
        "outputId": "9793def6-aa2f-44a2-8813-a348cea9e76e"
      },
      "execution_count": null,
      "outputs": [
        {
          "output_type": "stream",
          "name": "stdout",
          "text": [
            "End of Print() statement\n",
            "Let's now learn Input() statement\n"
          ]
        }
      ]
    },
    {
      "cell_type": "markdown",
      "source": [
        "##Variables and input() statement "
      ],
      "metadata": {
        "id": "xWbgy3MngdUg"
      }
    },
    {
      "cell_type": "code",
      "source": [
        "#Assigning a value to a variable directly in the code part.\n",
        "a = 'z'\n",
        "print(a)\n",
        "\n",
        "e = 'Eve'\n",
        "print(b)\n",
        "\n",
        "c = '10'\n",
        "print(c)\n",
        "\n",
        "A = 100\n",
        "print(A)\n",
        "\n",
        "a1 =101\n",
        "print(a1)\n",
        "\n",
        "a_point = 100.1\n",
        "print(a_point)\n",
        "\n",
        "_space = 'CoSmOs'\n",
        "print(_space)"
      ],
      "metadata": {
        "colab": {
          "base_uri": "https://localhost:8080/"
        },
        "id": "GyYubwo1erzx",
        "outputId": "e7c738d8-c906-4f02-a64d-4bcf94dadada"
      },
      "execution_count": null,
      "outputs": [
        {
          "output_type": "stream",
          "name": "stdout",
          "text": [
            "z\n",
            "q\n",
            "10\n",
            "100\n",
            "101\n",
            "100.1\n",
            "CoSmOs\n"
          ]
        }
      ]
    },
    {
      "cell_type": "code",
      "source": [
        "# Alternate way of assigning a value to the variable \n",
        "# (through input() statement, also called dynamic inputting)\n",
        "PI = input()\n",
        "print (PI)\n",
        "\n",
        "print('\\n') #leaves a line space in the output\n",
        "\n",
        "Score = input(\"Enter your python score: \")\n",
        "print(Score)\n"
      ],
      "metadata": {
        "colab": {
          "base_uri": "https://localhost:8080/"
        },
        "id": "K0eHQtM2nxsV",
        "outputId": "81f23303-ea2c-4eb5-aa6d-5a5f14f90773"
      },
      "execution_count": null,
      "outputs": [
        {
          "output_type": "stream",
          "name": "stdout",
          "text": [
            "3.14\n",
            "3.14\n",
            "\n",
            "\n",
            "Enter your python score: 100\n",
            "100\n"
          ]
        }
      ]
    },
    {
      "cell_type": "markdown",
      "source": [
        "###Observations: Variable and input() statement\n",
        "*   We can have variables comprising uppercase and lowercase alphabets, numbers and underscore symbol: _ \n",
        "*   We can store various tpyes of values like single character(alphabet or number character), string(group of characters, sentences) and numerical values(integers, float-decimals..).\n",
        "*   Variable A and variable a are NOT same (variables are case sensitive).\n",
        "*   We use ' ' or \" \" to let know python that its a string and for number values no quotes are required unless they are a character.\n",
        "*   We can take the value of the variable from output using input() statement.\n",
        "*   input() statement takes values and store them as a string by default.\n",
        "*   We can add strings inside input() statement."
      ],
      "metadata": {
        "id": "BgWSpi6zvAR2"
      }
    },
    {
      "cell_type": "markdown",
      "source": [
        "###Undesirable results: variable and input() statement"
      ],
      "metadata": {
        "id": "_-FjuFG7zebM"
      }
    },
    {
      "cell_type": "code",
      "source": [
        "#some words are reserved in pyton that cannot be used as variables\n",
        "True = 'yes'"
      ],
      "metadata": {
        "colab": {
          "base_uri": "https://localhost:8080/",
          "height": 135
        },
        "id": "uckEBG6Cpqbl",
        "outputId": "9fb45192-abf2-4910-a0df-81d938e07818"
      },
      "execution_count": null,
      "outputs": [
        {
          "output_type": "error",
          "ename": "SyntaxError",
          "evalue": "ignored",
          "traceback": [
            "\u001b[0;36m  File \u001b[0;32m\"<ipython-input-67-7b158743e232>\"\u001b[0;36m, line \u001b[0;32m2\u001b[0m\n\u001b[0;31m    True = 'yes'\u001b[0m\n\u001b[0m                ^\u001b[0m\n\u001b[0;31mSyntaxError\u001b[0m\u001b[0;31m:\u001b[0m can't assign to keyword\n"
          ]
        }
      ]
    },
    {
      "cell_type": "code",
      "source": [
        "#No gaps/blank space is allowed in between the name of a variable\n",
        "my name = \"Abdullah\""
      ],
      "metadata": {
        "colab": {
          "base_uri": "https://localhost:8080/",
          "height": 135
        },
        "id": "uLX9hG0fAyq4",
        "outputId": "cdfe427c-964e-4603-af92-8beedfd198b5"
      },
      "execution_count": null,
      "outputs": [
        {
          "output_type": "error",
          "ename": "SyntaxError",
          "evalue": "ignored",
          "traceback": [
            "\u001b[0;36m  File \u001b[0;32m\"<ipython-input-68-52b67c6d6518>\"\u001b[0;36m, line \u001b[0;32m2\u001b[0m\n\u001b[0;31m    my name = \"Abdullah\"\u001b[0m\n\u001b[0m          ^\u001b[0m\n\u001b[0;31mSyntaxError\u001b[0m\u001b[0;31m:\u001b[0m invalid syntax\n"
          ]
        }
      ]
    },
    {
      "cell_type": "code",
      "source": [
        "#eventhough we can use numbers in variable names, they cannot begin with numbers\n",
        "1a = 103"
      ],
      "metadata": {
        "colab": {
          "base_uri": "https://localhost:8080/",
          "height": 135
        },
        "id": "OUqeFqzMzriD",
        "outputId": "3f9dcb1f-8c1e-4e7b-8b14-0d436d0db818"
      },
      "execution_count": null,
      "outputs": [
        {
          "output_type": "error",
          "ename": "SyntaxError",
          "evalue": "ignored",
          "traceback": [
            "\u001b[0;36m  File \u001b[0;32m\"<ipython-input-69-bd2809f3e233>\"\u001b[0;36m, line \u001b[0;32m2\u001b[0m\n\u001b[0;31m    1a = 103\u001b[0m\n\u001b[0m     ^\u001b[0m\n\u001b[0;31mSyntaxError\u001b[0m\u001b[0;31m:\u001b[0m invalid syntax\n"
          ]
        }
      ]
    },
    {
      "cell_type": "code",
      "source": [
        "#No quotes are acceptable in variable name\n",
        "'a1' = 10"
      ],
      "metadata": {
        "colab": {
          "base_uri": "https://localhost:8080/",
          "height": 135
        },
        "id": "Wv7-lMpI0fFI",
        "outputId": "07d8ee6b-9834-4172-d12d-6693df5ffcef"
      },
      "execution_count": null,
      "outputs": [
        {
          "output_type": "error",
          "ename": "SyntaxError",
          "evalue": "ignored",
          "traceback": [
            "\u001b[0;36m  File \u001b[0;32m\"<ipython-input-70-477145d17287>\"\u001b[0;36m, line \u001b[0;32m2\u001b[0m\n\u001b[0;31m    'a1' = 10\u001b[0m\n\u001b[0m             ^\u001b[0m\n\u001b[0;31mSyntaxError\u001b[0m\u001b[0;31m:\u001b[0m can't assign to literal\n"
          ]
        }
      ]
    },
    {
      "cell_type": "code",
      "source": [
        "#recap c = '10' and A = 100, c is string and A is an integer, they cannot be \n",
        "# added as they are of different data types\n",
        "print(c+A)"
      ],
      "metadata": {
        "colab": {
          "base_uri": "https://localhost:8080/",
          "height": 208
        },
        "id": "CNLJkQrU1vzj",
        "outputId": "fa814ea1-a49d-4f1f-ae3e-b00b88538469"
      },
      "execution_count": null,
      "outputs": [
        {
          "output_type": "error",
          "ename": "TypeError",
          "evalue": "ignored",
          "traceback": [
            "\u001b[0;31m---------------------------------------------------------------------------\u001b[0m",
            "\u001b[0;31mTypeError\u001b[0m                                 Traceback (most recent call last)",
            "\u001b[0;32m<ipython-input-71-96acf3f879dc>\u001b[0m in \u001b[0;36m<module>\u001b[0;34m()\u001b[0m\n\u001b[1;32m      1\u001b[0m \u001b[0;31m#recap c = '10' and A = 100, c is string and A is an integer, they cannot be\u001b[0m\u001b[0;34m\u001b[0m\u001b[0;34m\u001b[0m\u001b[0;34m\u001b[0m\u001b[0m\n\u001b[1;32m      2\u001b[0m \u001b[0;31m# added as they are of different data types\u001b[0m\u001b[0;34m\u001b[0m\u001b[0;34m\u001b[0m\u001b[0;34m\u001b[0m\u001b[0m\n\u001b[0;32m----> 3\u001b[0;31m \u001b[0mprint\u001b[0m\u001b[0;34m(\u001b[0m\u001b[0mc\u001b[0m\u001b[0;34m+\u001b[0m\u001b[0mA\u001b[0m\u001b[0;34m)\u001b[0m\u001b[0;34m\u001b[0m\u001b[0;34m\u001b[0m\u001b[0m\n\u001b[0m",
            "\u001b[0;31mTypeError\u001b[0m: can only concatenate str (not \"int\") to str"
          ]
        }
      ]
    },
    {
      "cell_type": "code",
      "source": [
        "#As PI is assigned a value using input() statement, it stores a string of 3.14\n",
        "#'3.14' but not as 3.14, therefore we cannot add/concatenate integer to a string\n",
        "print(PI + 10)"
      ],
      "metadata": {
        "colab": {
          "base_uri": "https://localhost:8080/",
          "height": 208
        },
        "id": "Mmd96N782oJE",
        "outputId": "cad82211-2c59-4e44-a88d-fa12e180c231"
      },
      "execution_count": null,
      "outputs": [
        {
          "output_type": "error",
          "ename": "TypeError",
          "evalue": "ignored",
          "traceback": [
            "\u001b[0;31m---------------------------------------------------------------------------\u001b[0m",
            "\u001b[0;31mTypeError\u001b[0m                                 Traceback (most recent call last)",
            "\u001b[0;32m<ipython-input-72-29427fd23cc3>\u001b[0m in \u001b[0;36m<module>\u001b[0;34m()\u001b[0m\n\u001b[1;32m      1\u001b[0m \u001b[0;31m#As PI is assigned a value using input() statement, it stores a string of 3.14\u001b[0m\u001b[0;34m\u001b[0m\u001b[0;34m\u001b[0m\u001b[0;34m\u001b[0m\u001b[0m\n\u001b[1;32m      2\u001b[0m \u001b[0;31m#'3.14' but not as 3.14, therefore we cannot add/concatenate integer to a string\u001b[0m\u001b[0;34m\u001b[0m\u001b[0;34m\u001b[0m\u001b[0;34m\u001b[0m\u001b[0m\n\u001b[0;32m----> 3\u001b[0;31m \u001b[0mprint\u001b[0m\u001b[0;34m(\u001b[0m\u001b[0mPI\u001b[0m \u001b[0;34m+\u001b[0m \u001b[0;36m10\u001b[0m\u001b[0;34m)\u001b[0m\u001b[0;34m\u001b[0m\u001b[0;34m\u001b[0m\u001b[0m\n\u001b[0m",
            "\u001b[0;31mTypeError\u001b[0m: can only concatenate str (not \"int\") to str"
          ]
        }
      ]
    },
    {
      "cell_type": "code",
      "source": [
        "#Variable name is case sensitive, pi != PI\n",
        "print(pi)"
      ],
      "metadata": {
        "colab": {
          "base_uri": "https://localhost:8080/",
          "height": 190
        },
        "id": "I5szRs2K3SIX",
        "outputId": "59f752c8-8ac9-4aa1-b172-3e4ade64b4ff"
      },
      "execution_count": null,
      "outputs": [
        {
          "output_type": "error",
          "ename": "NameError",
          "evalue": "ignored",
          "traceback": [
            "\u001b[0;31m---------------------------------------------------------------------------\u001b[0m",
            "\u001b[0;31mNameError\u001b[0m                                 Traceback (most recent call last)",
            "\u001b[0;32m<ipython-input-73-79998b902f05>\u001b[0m in \u001b[0;36m<module>\u001b[0;34m()\u001b[0m\n\u001b[1;32m      1\u001b[0m \u001b[0;31m#Variable name is case sensitive, pi != PI\u001b[0m\u001b[0;34m\u001b[0m\u001b[0;34m\u001b[0m\u001b[0;34m\u001b[0m\u001b[0m\n\u001b[0;32m----> 2\u001b[0;31m \u001b[0mprint\u001b[0m\u001b[0;34m(\u001b[0m\u001b[0mpi\u001b[0m\u001b[0;34m)\u001b[0m\u001b[0;34m\u001b[0m\u001b[0;34m\u001b[0m\u001b[0m\n\u001b[0m",
            "\u001b[0;31mNameError\u001b[0m: name 'pi' is not defined"
          ]
        }
      ]
    },
    {
      "cell_type": "markdown",
      "source": [
        "###Additional information: Variables and input() statement"
      ],
      "metadata": {
        "id": "XBXlowQO4T2l"
      }
    },
    {
      "cell_type": "code",
      "source": [
        "#input() assigned a string value called Ayyan to n\n",
        "#therefore n = \"Ayyan\"\n",
        "#In print(), we have string,name and string,name,srting, where value stored n name is called. \n",
        "# note that the string before name is closed and string, thereafter, is opened using \"\n",
        "name = input()\n",
        "print(\"Hi\",name)\n",
        "print(\"Hello\",name,\"how are you?\")"
      ],
      "metadata": {
        "colab": {
          "base_uri": "https://localhost:8080/"
        },
        "id": "4h3aIBSy4Dbu",
        "outputId": "3921f11c-5acd-4db3-dc1c-86c35e8826be"
      },
      "execution_count": null,
      "outputs": [
        {
          "output_type": "stream",
          "name": "stdout",
          "text": [
            "Ayyaan\n",
            "Hi Ayyaan\n",
            "Hello Ayyaan how are you?\n"
          ]
        }
      ]
    },
    {
      "cell_type": "code",
      "source": [
        "#Genetally input() takes value as a string, we are converting it into an integer\n",
        "#besides int, we can use float, string ... \n",
        "kbc = int(input(\"Enter the value you have won: \"))\n",
        "print(kbc)\n",
        "print(kbc*10)  #It will not modify the variable kbc but gives value, ten times the kbc\n",
        "print(float(kbc))  #It will not modify the variable kbc"
      ],
      "metadata": {
        "id": "UWVDpFNd4mVX",
        "colab": {
          "base_uri": "https://localhost:8080/"
        },
        "outputId": "8c596aea-b6df-44d6-ae13-41ec6f93f85f"
      },
      "execution_count": null,
      "outputs": [
        {
          "output_type": "stream",
          "name": "stdout",
          "text": [
            "Enter the value you have won: 10000000\n",
            "10000000\n",
            "100000000\n",
            "10000000.0\n"
          ]
        }
      ]
    },
    {
      "cell_type": "code",
      "source": [
        "#We can modify value in input() by extending it with the methods .lower()\n",
        "# and .upper() to obtain lowercase and uppercase values respectively.\n",
        "# we have other methods like .capitalize() to capitalize initial letter alone \n",
        "first_name = input(\"Enter your first name: \").upper()\n",
        "last_name = input(\"Enter your first name: \").lower()\n",
        "\n",
        "print('\\nMy first name is' ,first_name, f'and the last name is {last_name}')\n",
        "#Observe the different ways of calling the variables first_name and last_name"
      ],
      "metadata": {
        "colab": {
          "base_uri": "https://localhost:8080/"
        },
        "id": "S5F9O5GA_-Tj",
        "outputId": "f07710e4-e7f5-47e8-a0f2-b75fbbc16797"
      },
      "execution_count": null,
      "outputs": [
        {
          "output_type": "stream",
          "name": "stdout",
          "text": [
            "Enter your first name: abdullah\n",
            "Enter your first name: Bin Mohammed\n",
            "\n",
            "My first name is ABDULLAH and the last name is bin mohammed\n"
          ]
        }
      ]
    },
    {
      "cell_type": "code",
      "source": [
        "#We cannot have multiple values/literals assigned to a variable, rather \n",
        "#varaible stores the final literal provided to it.\n",
        "unhealthy_drinks = 'Pepsi'\n",
        "unhealthy_drinks = 'coca cola'\n",
        "print(unhealthy_drinks)"
      ],
      "metadata": {
        "colab": {
          "base_uri": "https://localhost:8080/"
        },
        "id": "wsUSF9lsBNSH",
        "outputId": "3184316b-e031-49d9-8b73-db6e9899949c"
      },
      "execution_count": null,
      "outputs": [
        {
          "output_type": "stream",
          "name": "stdout",
          "text": [
            "coca cola\n"
          ]
        }
      ]
    },
    {
      "cell_type": "markdown",
      "source": [
        "##Data Types\n",
        "Variables can store data of different types, and different types can do different things."
      ],
      "metadata": {
        "id": "RUzymHm6cxRr"
      }
    },
    {
      "cell_type": "markdown",
      "source": [
        "\n",
        "* Text Type:\t    str\n",
        "* Numeric Types:\tint, float, complex\n",
        "* Sequence Types:\tlist, tuple, range\n",
        "* Mapping Type:\tdict\n",
        "* Set Types:\tset, frozenset\n",
        "* Boolean Type:\tbool\n",
        "* Binary Types:\tbytes, bytearray, memoryview"
      ],
      "metadata": {
        "id": "Q1S-T-fRJSyZ"
      }
    },
    {
      "cell_type": "markdown",
      "source": [
        "We can check data type of a variable or a value using type()"
      ],
      "metadata": {
        "id": "Od0VK7jicOsH"
      }
    },
    {
      "cell_type": "code",
      "source": [
        "print(type('python'))"
      ],
      "metadata": {
        "colab": {
          "base_uri": "https://localhost:8080/"
        },
        "id": "SCIQfpNobdGZ",
        "outputId": "f8da531b-6f82-42f6-a9e8-1eebe6560157"
      },
      "execution_count": null,
      "outputs": [
        {
          "output_type": "stream",
          "name": "stdout",
          "text": [
            "<class 'str'>\n"
          ]
        }
      ]
    },
    {
      "cell_type": "code",
      "source": [
        "print(type(3))"
      ],
      "metadata": {
        "colab": {
          "base_uri": "https://localhost:8080/"
        },
        "id": "bGOnh465bU1v",
        "outputId": "33a5685a-5869-48ab-81da-bb333a8579dc"
      },
      "execution_count": null,
      "outputs": [
        {
          "output_type": "stream",
          "name": "stdout",
          "text": [
            "<class 'int'>\n"
          ]
        }
      ]
    },
    {
      "cell_type": "code",
      "source": [
        "print(type(3.0))"
      ],
      "metadata": {
        "colab": {
          "base_uri": "https://localhost:8080/"
        },
        "id": "KNpYV2NsbUmO",
        "outputId": "d964d3ca-b2f3-4806-c5cc-56c483597e47"
      },
      "execution_count": null,
      "outputs": [
        {
          "output_type": "stream",
          "name": "stdout",
          "text": [
            "<class 'float'>\n"
          ]
        }
      ]
    },
    {
      "cell_type": "code",
      "source": [
        "print(type(True))\n",
        "print(type(False))"
      ],
      "metadata": {
        "colab": {
          "base_uri": "https://localhost:8080/"
        },
        "id": "LD0dFJeObUX4",
        "outputId": "fe715ce8-e39e-469a-d817-bbb18020a500"
      },
      "execution_count": null,
      "outputs": [
        {
          "output_type": "stream",
          "name": "stdout",
          "text": [
            "<class 'bool'>\n",
            "<class 'bool'>\n"
          ]
        }
      ]
    },
    {
      "cell_type": "code",
      "source": [
        "list1 = ['a','A',5]\n",
        "print(type(list1))"
      ],
      "metadata": {
        "colab": {
          "base_uri": "https://localhost:8080/"
        },
        "id": "o9tuUGX0X8Ky",
        "outputId": "155cb193-410b-4311-a57c-9897037ef6b3"
      },
      "execution_count": null,
      "outputs": [
        {
          "output_type": "stream",
          "name": "stdout",
          "text": [
            "<class 'list'>\n"
          ]
        }
      ]
    },
    {
      "cell_type": "code",
      "source": [
        "dict_1 = {'a':'Apple', 'b':'Bat'}\n",
        "print(type(dict_1))"
      ],
      "metadata": {
        "colab": {
          "base_uri": "https://localhost:8080/"
        },
        "id": "ALYBTvODbx9L",
        "outputId": "dd995763-fa06-42ad-f0c4-67bfbef6a669"
      },
      "execution_count": null,
      "outputs": [
        {
          "output_type": "stream",
          "name": "stdout",
          "text": [
            "<class 'dict'>\n"
          ]
        }
      ]
    },
    {
      "cell_type": "code",
      "source": [
        "#data type of value stored in a variable using input() statement is string (str)\n",
        "clock_time = input(\"Enter the time that you usually see on outer cover of clocks: \")\n",
        "print(type(clock_time))"
      ],
      "metadata": {
        "colab": {
          "base_uri": "https://localhost:8080/"
        },
        "id": "EKppR85wTDLE",
        "outputId": "f8db9c74-855f-4b3c-be24-645b567f77f4"
      },
      "execution_count": null,
      "outputs": [
        {
          "output_type": "stream",
          "name": "stdout",
          "text": [
            "Enter the time that you usually see on outer cover of clocks: 10:10\n",
            "<class 'str'>\n"
          ]
        }
      ]
    },
    {
      "cell_type": "markdown",
      "source": [
        "we can convert data type with/ without the modification of data type of a variable"
      ],
      "metadata": {
        "id": "epCgnnU5comh"
      }
    },
    {
      "cell_type": "code",
      "source": [
        "# variable PI store string value '3.14, is printed as a float (decimal) value\n",
        "print(type(float(PI)))  #It is only converting but not modifying the variable PI "
      ],
      "metadata": {
        "colab": {
          "base_uri": "https://localhost:8080/"
        },
        "id": "xbrvZRD8ULH5",
        "outputId": "b86c3f17-f295-477a-e040-f2f303264753"
      },
      "execution_count": null,
      "outputs": [
        {
          "output_type": "stream",
          "name": "stdout",
          "text": [
            "<class 'float'>\n"
          ]
        }
      ]
    },
    {
      "cell_type": "code",
      "source": [
        "#multiple data type conversion\n",
        "print(type(int(float(PI))))  #string is converted into float then into an integer, only inside a print statement"
      ],
      "metadata": {
        "colab": {
          "base_uri": "https://localhost:8080/"
        },
        "id": "sjKRiMoGXlrc",
        "outputId": "6f1f3352-9f16-43a3-bb74-3b5654e89464"
      },
      "execution_count": null,
      "outputs": [
        {
          "output_type": "stream",
          "name": "stdout",
          "text": [
            "<class 'int'>\n"
          ]
        }
      ]
    },
    {
      "cell_type": "code",
      "source": [
        "print(type(PI))  #It is yet a string as we stored its value using input()statement, therefore it is not modified"
      ],
      "metadata": {
        "colab": {
          "base_uri": "https://localhost:8080/"
        },
        "id": "LnGRjMw4YxNr",
        "outputId": "4c4101aa-533b-43a5-98d3-036dc6ba2d0b"
      },
      "execution_count": null,
      "outputs": [
        {
          "output_type": "stream",
          "name": "stdout",
          "text": [
            "<class 'str'>\n"
          ]
        }
      ]
    },
    {
      "cell_type": "markdown",
      "source": [
        "Different data types can do differnt things and have certain limitations"
      ],
      "metadata": {
        "id": "7FfVIMy3dCE7"
      }
    },
    {
      "cell_type": "code",
      "source": [
        "#We can add/concatenate two strings using +\n",
        "F_name =  input(\"Enter your first name: \")\n",
        "L_name = input(\"Enter your second name: \")\n",
        "print(F_name + \" \" + L_name)  "
      ],
      "metadata": {
        "colab": {
          "base_uri": "https://localhost:8080/"
        },
        "id": "_7aZonfOK_aQ",
        "outputId": "2927ecd9-66f8-4d0e-a711-13015e6940cb"
      },
      "execution_count": null,
      "outputs": [
        {
          "output_type": "stream",
          "name": "stdout",
          "text": [
            "Enter your first name: Ayman\n",
            "The data type of Ayman  is <class 'str'> data type\n",
            "\n",
            "Enter your second name: Nusayba\n",
            "The data type of Nusayba  is <class 'str'> data type\n",
            "\n",
            "Ayman Nusayba\n"
          ]
        }
      ]
    },
    {
      "cell_type": "code",
      "source": [
        "#float value can be converted into integer data type as follows\n",
        "PI_floor = int(3.14)\n",
        "print(PI_floor)"
      ],
      "metadata": {
        "colab": {
          "base_uri": "https://localhost:8080/"
        },
        "id": "Bo7pbcVSK_XP",
        "outputId": "6dc4e72f-7949-4734-84aa-1fc271ae12cf"
      },
      "execution_count": null,
      "outputs": [
        {
          "output_type": "stream",
          "name": "stdout",
          "text": [
            "3\n"
          ]
        }
      ]
    },
    {
      "cell_type": "code",
      "source": [
        "#The boolean value of all the numbers and strings is 1 except the number 0 and empty string\n",
        "print(bool(''))\n",
        "print(bool(0))\n",
        "print(bool('0'))  #its not 0 rather a non-empty string\n",
        "print(bool('abc'))\n",
        "print(bool(123))\n",
        "print(bool(-123))"
      ],
      "metadata": {
        "colab": {
          "base_uri": "https://localhost:8080/"
        },
        "id": "C8IVzNWucm0Y",
        "outputId": "1cf98acd-9128-4a32-93e1-553c0de23c8d"
      },
      "execution_count": null,
      "outputs": [
        {
          "output_type": "stream",
          "name": "stdout",
          "text": [
            "False\n",
            "False\n",
            "True\n",
            "True\n",
            "True\n",
            "True\n"
          ]
        }
      ]
    },
    {
      "cell_type": "code",
      "source": [
        "print(float('3'))"
      ],
      "metadata": {
        "colab": {
          "base_uri": "https://localhost:8080/"
        },
        "id": "lIfvzEHxNQik",
        "outputId": "3c9e3a16-fa67-4bdd-db93-245f4ff5fa4a"
      },
      "execution_count": null,
      "outputs": [
        {
          "output_type": "stream",
          "name": "stdout",
          "text": [
            "3.0\n"
          ]
        }
      ]
    },
    {
      "cell_type": "code",
      "source": [
        "#integer and float data tpye can have following operations\n",
        "m = 16.0\n",
        "n = 5\n",
        "print(m+n)\n",
        "print(m-n)\n",
        "print(m*n)\n",
        "print(m/n)"
      ],
      "metadata": {
        "colab": {
          "base_uri": "https://localhost:8080/"
        },
        "id": "SVF9F8isi5hM",
        "outputId": "047ecc3f-8457-48ed-c6e3-792a7014d09b"
      },
      "execution_count": null,
      "outputs": [
        {
          "output_type": "stream",
          "name": "stdout",
          "text": [
            "21.0\n",
            "11.0\n",
            "80.0\n",
            "3.2\n"
          ]
        }
      ]
    },
    {
      "cell_type": "markdown",
      "source": [
        "###Observations: Data types\n",
        "\n",
        "*  We use type() to know the data type of a variable or literal.\n",
        "*  We can change a value from one data type to another if they are compatible.\n",
        "*  The operations that we can apply are based on data type. e.g. we can add two strings but cannot multiply them.\n",
        "*  We can compare two boolean values but cannot perform mathematical operations\n",
        "*  We can perform mathematical operations on integers, float and their combination."
      ],
      "metadata": {
        "id": "-zdCemOcdUrI"
      }
    },
    {
      "cell_type": "markdown",
      "source": [
        "###Undesirable results: data types"
      ],
      "metadata": {
        "id": "p8SBGXmIZiom"
      }
    },
    {
      "cell_type": "code",
      "source": [
        "#limitation in conversion of a string into a float\n",
        "#We cannot directly convert a string that has a value resembling float into an integer\n",
        "PI_Floor = int(PI)"
      ],
      "metadata": {
        "colab": {
          "base_uri": "https://localhost:8080/",
          "height": 190
        },
        "id": "bIMc96NjK_UY",
        "outputId": "cb3a7bfe-45e9-4323-8d87-6dee7ecc4e7a"
      },
      "execution_count": null,
      "outputs": [
        {
          "output_type": "error",
          "ename": "ValueError",
          "evalue": "ignored",
          "traceback": [
            "\u001b[0;31m---------------------------------------------------------------------------\u001b[0m",
            "\u001b[0;31mValueError\u001b[0m                                Traceback (most recent call last)",
            "\u001b[0;32m<ipython-input-38-4f2584383c4a>\u001b[0m in \u001b[0;36m<module>\u001b[0;34m()\u001b[0m\n\u001b[1;32m      1\u001b[0m \u001b[0;31m#We cannot directly convert a string that has a value resembling float\u001b[0m\u001b[0;34m\u001b[0m\u001b[0;34m\u001b[0m\u001b[0;34m\u001b[0m\u001b[0m\n\u001b[0;32m----> 2\u001b[0;31m \u001b[0mPI_Floor\u001b[0m \u001b[0;34m=\u001b[0m \u001b[0mint\u001b[0m\u001b[0;34m(\u001b[0m\u001b[0mPI\u001b[0m\u001b[0;34m)\u001b[0m\u001b[0;34m\u001b[0m\u001b[0;34m\u001b[0m\u001b[0m\n\u001b[0m",
            "\u001b[0;31mValueError\u001b[0m: invalid literal for int() with base 10: '3.14'"
          ]
        }
      ]
    },
    {
      "cell_type": "code",
      "source": [
        "#limitation in conversion of a string into an int\n",
        "#We cannot directly convert a string that has a value resembling float into an integer as it involves some computation\n",
        "print(int('3.14'))"
      ],
      "metadata": {
        "colab": {
          "base_uri": "https://localhost:8080/",
          "height": 171
        },
        "id": "Fu7Bwa6gUBAJ",
        "outputId": "06d41175-db84-4195-9986-513e5d6c2eb6"
      },
      "execution_count": 12,
      "outputs": [
        {
          "output_type": "error",
          "ename": "ValueError",
          "evalue": "ignored",
          "traceback": [
            "\u001b[0;31m---------------------------------------------------------------------------\u001b[0m",
            "\u001b[0;31mValueError\u001b[0m                                Traceback (most recent call last)",
            "\u001b[0;32m<ipython-input-12-fd0cc1fa81f2>\u001b[0m in \u001b[0;36m<module>\u001b[0;34m()\u001b[0m\n\u001b[0;32m----> 1\u001b[0;31m \u001b[0mprint\u001b[0m\u001b[0;34m(\u001b[0m\u001b[0mint\u001b[0m\u001b[0;34m(\u001b[0m\u001b[0;34m'3.14'\u001b[0m\u001b[0;34m)\u001b[0m\u001b[0;34m)\u001b[0m \u001b[0;31m##We cannot directly convert a string that has a value resembling float into an integer\u001b[0m\u001b[0;34m\u001b[0m\u001b[0;34m\u001b[0m\u001b[0m\n\u001b[0m",
            "\u001b[0;31mValueError\u001b[0m: invalid literal for int() with base 10: '3.14'"
          ]
        }
      ]
    },
    {
      "cell_type": "code",
      "source": [
        "#limitation in conversion of a string into a float\n",
        "#the string possess 1.41 which is a float but cannot be obtained through float\n",
        "print(float('2**(1/2)'))"
      ],
      "metadata": {
        "colab": {
          "base_uri": "https://localhost:8080/",
          "height": 171
        },
        "id": "J-jlOZRqzabP",
        "outputId": "5ed167eb-aacc-4444-e073-64d6e88ed8d9"
      },
      "execution_count": 8,
      "outputs": [
        {
          "output_type": "error",
          "ename": "ValueError",
          "evalue": "ignored",
          "traceback": [
            "\u001b[0;31m---------------------------------------------------------------------------\u001b[0m",
            "\u001b[0;31mValueError\u001b[0m                                Traceback (most recent call last)",
            "\u001b[0;32m<ipython-input-8-1902123acafc>\u001b[0m in \u001b[0;36m<module>\u001b[0;34m()\u001b[0m\n\u001b[0;32m----> 1\u001b[0;31m \u001b[0mprint\u001b[0m\u001b[0;34m(\u001b[0m\u001b[0mfloat\u001b[0m\u001b[0;34m(\u001b[0m\u001b[0;34m'2**(1/2)'\u001b[0m\u001b[0;34m)\u001b[0m\u001b[0;34m)\u001b[0m\u001b[0;34m\u001b[0m\u001b[0;34m\u001b[0m\u001b[0m\n\u001b[0m",
            "\u001b[0;31mValueError\u001b[0m: could not convert string to float: '2**(1/2)'"
          ]
        }
      ]
    },
    {
      "cell_type": "code",
      "source": [
        "print(float('2**1'))"
      ],
      "metadata": {
        "id": "ewiNyON_zSNC"
      },
      "execution_count": null,
      "outputs": []
    },
    {
      "cell_type": "code",
      "source": [
        "#We can only add and compare two strings but cannot do other operations like *, / ...\n",
        "print(F_name * L_name)"
      ],
      "metadata": {
        "colab": {
          "base_uri": "https://localhost:8080/",
          "height": 190
        },
        "id": "9uqDxjskaNGZ",
        "outputId": "c333d24f-a07e-4d2f-b9df-6a74843b07e5"
      },
      "execution_count": null,
      "outputs": [
        {
          "output_type": "error",
          "ename": "TypeError",
          "evalue": "ignored",
          "traceback": [
            "\u001b[0;31m---------------------------------------------------------------------------\u001b[0m",
            "\u001b[0;31mTypeError\u001b[0m                                 Traceback (most recent call last)",
            "\u001b[0;32m<ipython-input-50-d7a96a08ac98>\u001b[0m in \u001b[0;36m<module>\u001b[0;34m()\u001b[0m\n\u001b[1;32m      1\u001b[0m \u001b[0;31m#We can only add and compare two strings but cannot do other operations like *, / ...\u001b[0m\u001b[0;34m\u001b[0m\u001b[0;34m\u001b[0m\u001b[0;34m\u001b[0m\u001b[0m\n\u001b[0;32m----> 2\u001b[0;31m \u001b[0mprint\u001b[0m\u001b[0;34m(\u001b[0m\u001b[0mF_name\u001b[0m \u001b[0;34m*\u001b[0m \u001b[0mL_name\u001b[0m\u001b[0;34m)\u001b[0m\u001b[0;34m\u001b[0m\u001b[0;34m\u001b[0m\u001b[0m\n\u001b[0m",
            "\u001b[0;31mTypeError\u001b[0m: can't multiply sequence by non-int of type 'str'"
          ]
        }
      ]
    },
    {
      "cell_type": "markdown",
      "source": [
        "###Additional Information: data tytpes"
      ],
      "metadata": {
        "id": "CKHxuBFKfEB0"
      }
    },
    {
      "cell_type": "code",
      "source": [
        "#Modify and Assign/store\n",
        "dict_2 = dict(name = 'Adam', age = 1000)  #here two variables holding different value is converted into a dictionary and stored in dict_2 \n",
        "print(type(dict_2))"
      ],
      "metadata": {
        "colab": {
          "base_uri": "https://localhost:8080/"
        },
        "id": "kbbsTBSRfDK0",
        "outputId": "db1524f4-29e6-43a3-b3e6-71e0cbaf7032"
      },
      "execution_count": null,
      "outputs": [
        {
          "output_type": "stream",
          "name": "stdout",
          "text": [
            "<class 'dict'>\n"
          ]
        }
      ]
    },
    {
      "cell_type": "code",
      "source": [
        "dict(name=\"John\", age=36)  #only modified into dictionary but not stored in any variable"
      ],
      "metadata": {
        "colab": {
          "base_uri": "https://localhost:8080/"
        },
        "id": "K85Rj6BNeJAA",
        "outputId": "cd2e8dee-7863-48d8-e835-a30b808326ca"
      },
      "execution_count": null,
      "outputs": [
        {
          "output_type": "execute_result",
          "data": {
            "text/plain": [
              "{'age': 36, 'name': 'John'}"
            ]
          },
          "metadata": {},
          "execution_count": 57
        }
      ]
    },
    {
      "cell_type": "code",
      "source": [
        "set((\"apple\", \"banana\", \"cherry\"))  #only modified into a set but not stored in any variable"
      ],
      "metadata": {
        "colab": {
          "base_uri": "https://localhost:8080/"
        },
        "id": "8EOXrSFtgOQ7",
        "outputId": "5fe924ea-f4be-4603-b686-697a204c86af"
      },
      "execution_count": null,
      "outputs": [
        {
          "output_type": "execute_result",
          "data": {
            "text/plain": [
              "{'apple', 'banana', 'cherry'}"
            ]
          },
          "metadata": {},
          "execution_count": 61
        }
      ]
    },
    {
      "cell_type": "code",
      "source": [
        "X = bool('ABM')  #modified string into its boolean value and stored in variable X\n",
        "print(X)\n",
        "print(type(X))"
      ],
      "metadata": {
        "colab": {
          "base_uri": "https://localhost:8080/"
        },
        "id": "W1mV0H4QiMBc",
        "outputId": "b702ea64-0522-42a0-940c-79ba36d8acd8"
      },
      "execution_count": null,
      "outputs": [
        {
          "output_type": "stream",
          "name": "stdout",
          "text": [
            "True\n",
            "<class 'bool'>\n"
          ]
        }
      ]
    },
    {
      "cell_type": "markdown",
      "source": [
        "##Operations"
      ],
      "metadata": {
        "id": "ZX68IqVaEYH1"
      }
    },
    {
      "cell_type": "markdown",
      "source": [
        "* Arithmetic operators\n",
        "* Assignment operators\n",
        "* Comparison operators\n",
        "* Logical operators\n",
        "* Identity operators\n",
        "* Membership operators\n",
        "* Bitwise operators\n",
        "\n",
        "We will learn most of these as course progress, but to begin with we address a few of them\n"
      ],
      "metadata": {
        "id": "tR_o7DN9Entq"
      }
    },
    {
      "cell_type": "code",
      "source": [
        "# Arithmetic operators\n",
        "print(\"Arithmetic operations on 20 and 3\\n\")\n",
        "print('addition:',20 + 3)\n",
        "print('substraction:',20 - 3)\n",
        "print('multiplication:',20 * 3)\n",
        "print('division:',20 / 3)\n",
        "print('floor division:',20 // 3)  #gives floor value of quotient\n",
        "print('modulus:',20 % 3)  #gives remainder on division of 20 by 3\n",
        "print('exponentiation:',20 ** 3)  #gives the 20 raised to power 3"
      ],
      "metadata": {
        "colab": {
          "base_uri": "https://localhost:8080/"
        },
        "id": "HmBBsnWgEd1I",
        "outputId": "052e1e98-695e-4a72-fb28-f18af76ab7c2"
      },
      "execution_count": 7,
      "outputs": [
        {
          "output_type": "stream",
          "name": "stdout",
          "text": [
            "Arithmetic operations on 20 and 3\n",
            "\n",
            "addition: 23\n",
            "substraction: 17\n",
            "multiplication: 60\n",
            "division: 6.666666666666667\n",
            "floor division: 6\n",
            "modulus: 2\n",
            "exponentiation: 8000\n"
          ]
        }
      ]
    },
    {
      "cell_type": "code",
      "source": [
        "# Python comparison operators\n",
        "print(20 == 3)\t #Equal\tx == y\t\n",
        "print(20 != 3)\t #Not equal\tx != y\t\n",
        "print(20 > 3) \t #Greater than\tx > y\t\n",
        "print(20 <\t3)   #Less than\tx < y\t\n",
        "print(20 >= 3)\t #Greater than or equal to\tx >= y\t\n",
        "print(20 <= 3)   #Lesser  than or equal to"
      ],
      "metadata": {
        "colab": {
          "base_uri": "https://localhost:8080/"
        },
        "id": "WWY0V7-nmLc1",
        "outputId": "ef18d216-8ed9-476e-c3e2-0efe7e2add9c"
      },
      "execution_count": 1,
      "outputs": [
        {
          "output_type": "stream",
          "name": "stdout",
          "text": [
            "False\n",
            "True\n",
            "True\n",
            "False\n",
            "True\n",
            "False\n"
          ]
        }
      ]
    },
    {
      "cell_type": "code",
      "source": [
        "#Logical operators\n",
        "print(True and True)   # and: Both needs to be true\n",
        "print(True and False)  # and: Both needs to be true\n",
        "print(True or True)    # or: either one or both needs to be true\n",
        "print(True or False)   # or: either one or both needs to be true\n",
        "print(not(True))       # It negates the boolean value\n",
        "print(not(False))       # It negates the boolean value "
      ],
      "metadata": {
        "colab": {
          "base_uri": "https://localhost:8080/"
        },
        "id": "lWnCBjzzkTGZ",
        "outputId": "1040a709-720a-4ba7-9c29-3ae70c70bceb"
      },
      "execution_count": 4,
      "outputs": [
        {
          "output_type": "stream",
          "name": "stdout",
          "text": [
            "True\n",
            "False\n",
            "True\n",
            "True\n",
            "False\n",
            "True\n"
          ]
        }
      ]
    },
    {
      "cell_type": "markdown",
      "source": [
        "##Strings"
      ],
      "metadata": {
        "id": "A8AO2pN0lrDj"
      }
    },
    {
      "cell_type": "markdown",
      "source": [
        "comparing strings"
      ],
      "metadata": {
        "id": "OSUMV2YNptqw"
      }
    },
    {
      "cell_type": "code",
      "source": [
        "#we are creating variable that are holding values of string data type\n",
        "string_a1 = \"a\"\n",
        "string_a2 = 'A'\n",
        "string_2 = 'bcdefghi'"
      ],
      "metadata": {
        "id": "LQYdCWheku2o"
      },
      "execution_count": 7,
      "outputs": []
    },
    {
      "cell_type": "code",
      "source": [
        "string_a1 + string_2  #we can add strings"
      ],
      "metadata": {
        "colab": {
          "base_uri": "https://localhost:8080/",
          "height": 35
        },
        "id": "jY6LXNwYmwAE",
        "outputId": "8a16b49d-366b-41b0-a8f9-2fa485d2a0d0"
      },
      "execution_count": 9,
      "outputs": [
        {
          "output_type": "execute_result",
          "data": {
            "text/plain": [
              "'acdefghi'"
            ],
            "application/vnd.google.colaboratory.intrinsic+json": {
              "type": "string"
            }
          },
          "metadata": {},
          "execution_count": 9
        }
      ]
    },
    {
      "cell_type": "code",
      "source": [
        "string_a1 * 4  #we can multiply string with an integer"
      ],
      "metadata": {
        "colab": {
          "base_uri": "https://localhost:8080/",
          "height": 35
        },
        "id": "oMRZ578km82B",
        "outputId": "2a812747-d8a5-4fe2-c38f-06b211fd8a3f"
      },
      "execution_count": 11,
      "outputs": [
        {
          "output_type": "execute_result",
          "data": {
            "text/plain": [
              "'aaaa'"
            ],
            "application/vnd.google.colaboratory.intrinsic+json": {
              "type": "string"
            }
          },
          "metadata": {},
          "execution_count": 11
        }
      ]
    },
    {
      "cell_type": "code",
      "source": [
        "string_a1 < string_2  #we can compare the strings"
      ],
      "metadata": {
        "colab": {
          "base_uri": "https://localhost:8080/"
        },
        "id": "gGMsDJmKoOkU",
        "outputId": "b9363e58-52b5-4666-c1d4-b3d77d46732c"
      },
      "execution_count": 16,
      "outputs": [
        {
          "output_type": "execute_result",
          "data": {
            "text/plain": [
              "True"
            ]
          },
          "metadata": {},
          "execution_count": 16
        }
      ]
    },
    {
      "cell_type": "code",
      "source": [
        "string_a1 == string_a2"
      ],
      "metadata": {
        "colab": {
          "base_uri": "https://localhost:8080/"
        },
        "id": "oORJ4qAGoN40",
        "outputId": "10ad6c7d-c755-487b-f13c-7755625e9bc4"
      },
      "execution_count": 18,
      "outputs": [
        {
          "output_type": "execute_result",
          "data": {
            "text/plain": [
              "False"
            ]
          },
          "metadata": {},
          "execution_count": 18
        }
      ]
    },
    {
      "cell_type": "code",
      "source": [
        "string_a1 > string_a2  #the comparision is not based on length of the string, rather on its occurance"
      ],
      "metadata": {
        "colab": {
          "base_uri": "https://localhost:8080/"
        },
        "id": "YNWnkolUo5i0",
        "outputId": "46844991-f34c-40d4-b197-63e38252f24c"
      },
      "execution_count": 20,
      "outputs": [
        {
          "output_type": "execute_result",
          "data": {
            "text/plain": [
              "True"
            ]
          },
          "metadata": {},
          "execution_count": 20
        }
      ]
    },
    {
      "cell_type": "markdown",
      "source": [
        "slicing strings"
      ],
      "metadata": {
        "id": "8luCQrJwpwwS"
      }
    },
    {
      "cell_type": "code",
      "source": [
        "print(string_2)\n",
        "print(string_2[0])\n",
        "print(string_2[1])\n",
        "print(string_2[-1])\n",
        "print(string_2[0:3]) "
      ],
      "metadata": {
        "colab": {
          "base_uri": "https://localhost:8080/"
        },
        "id": "YRaJNb5XpOcV",
        "outputId": "bd029977-e668-43ca-f51b-81d12a3910bd"
      },
      "execution_count": 27,
      "outputs": [
        {
          "output_type": "stream",
          "name": "stdout",
          "text": [
            "cdefghi\n",
            "c\n",
            "d\n",
            "i\n",
            "cde\n"
          ]
        }
      ]
    },
    {
      "cell_type": "markdown",
      "source": [
        "###undesirable results: Strings"
      ],
      "metadata": {
        "id": "27_Byl_HoIPg"
      }
    },
    {
      "cell_type": "code",
      "source": [
        "string_a1 * 4.2  #we can multiply string with an integer"
      ],
      "metadata": {
        "colab": {
          "base_uri": "https://localhost:8080/",
          "height": 171
        },
        "id": "9Ux_SkdbnZjJ",
        "outputId": "1ea80073-df6f-48fe-8639-6371c1501f44"
      },
      "execution_count": 12,
      "outputs": [
        {
          "output_type": "error",
          "ename": "TypeError",
          "evalue": "ignored",
          "traceback": [
            "\u001b[0;31m---------------------------------------------------------------------------\u001b[0m",
            "\u001b[0;31mTypeError\u001b[0m                                 Traceback (most recent call last)",
            "\u001b[0;32m<ipython-input-12-847b61fb663f>\u001b[0m in \u001b[0;36m<module>\u001b[0;34m()\u001b[0m\n\u001b[0;32m----> 1\u001b[0;31m \u001b[0mstring_a1\u001b[0m \u001b[0;34m*\u001b[0m \u001b[0;36m4.2\u001b[0m  \u001b[0;31m#we can multiply string with an integer\u001b[0m\u001b[0;34m\u001b[0m\u001b[0;34m\u001b[0m\u001b[0m\n\u001b[0m",
            "\u001b[0;31mTypeError\u001b[0m: can't multiply sequence by non-int of type 'float'"
          ]
        }
      ]
    },
    {
      "cell_type": "code",
      "source": [
        "print(string_2[20]) #we cannot give a positive number exceeding \"one less than its length\" "
      ],
      "metadata": {
        "colab": {
          "base_uri": "https://localhost:8080/",
          "height": 171
        },
        "id": "QkceaPchoGcs",
        "outputId": "7bfb95e7-6287-4e12-c79f-cb7fa729709c"
      },
      "execution_count": 29,
      "outputs": [
        {
          "output_type": "error",
          "ename": "IndexError",
          "evalue": "ignored",
          "traceback": [
            "\u001b[0;31m---------------------------------------------------------------------------\u001b[0m",
            "\u001b[0;31mIndexError\u001b[0m                                Traceback (most recent call last)",
            "\u001b[0;32m<ipython-input-29-93d0565873fd>\u001b[0m in \u001b[0;36m<module>\u001b[0;34m()\u001b[0m\n\u001b[0;32m----> 1\u001b[0;31m \u001b[0mprint\u001b[0m\u001b[0;34m(\u001b[0m\u001b[0mstring_2\u001b[0m\u001b[0;34m[\u001b[0m\u001b[0;36m20\u001b[0m\u001b[0;34m]\u001b[0m\u001b[0;34m)\u001b[0m \u001b[0;31m#we cannot give a positive number exceeding \"one less than its length\"\u001b[0m\u001b[0;34m\u001b[0m\u001b[0;34m\u001b[0m\u001b[0m\n\u001b[0m",
            "\u001b[0;31mIndexError\u001b[0m: string index out of range"
          ]
        }
      ]
    },
    {
      "cell_type": "markdown",
      "source": [
        "##Its end of week 1 content, Thank you."
      ],
      "metadata": {
        "id": "1S0MjyhRsNHj"
      }
    }
  ]
}