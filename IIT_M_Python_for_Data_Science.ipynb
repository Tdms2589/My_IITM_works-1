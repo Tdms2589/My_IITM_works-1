{
  "nbformat": 4,
  "nbformat_minor": 0,
  "metadata": {
    "colab": {
      "name": "IIT-M_Python_for_Data_Science.ipynb",
      "provenance": [],
      "collapsed_sections": [],
      "authorship_tag": "ABX9TyPVrBRksEoNvdh3fix9iy0W",
      "include_colab_link": true
    },
    "kernelspec": {
      "name": "python3",
      "display_name": "Python 3"
    },
    "language_info": {
      "name": "python"
    }
  },
  "cells": [
    {
      "cell_type": "markdown",
      "metadata": {
        "id": "view-in-github",
        "colab_type": "text"
      },
      "source": [
        "<a href=\"https://colab.research.google.com/github/abm4github/My_IITM_works/blob/main/IIT_M_Python_for_Data_Science.ipynb\" target=\"_parent\"><img src=\"https://colab.research.google.com/assets/colab-badge.svg\" alt=\"Open In Colab\"/></a>"
      ]
    },
    {
      "cell_type": "markdown",
      "source": [
        "#Python for Data Science\n",
        "##Foundational Course, IIT-M, B.Sc. in Programming and Data Science"
      ],
      "metadata": {
        "id": "keTfzpHOEnCy"
      }
    },
    {
      "cell_type": "markdown",
      "source": [
        "This google colab is meant for the students of IIT-M, B.Sc. in Programming and Data Science. It is based on the syllabus of the year 2022.\n",
        "\n",
        "Disclaimer: This is not an official notes by IIT-M, it is prepared by a student of IIT-M. Therefore the mistakes, if any in this colab are not attributed to IIT-M"
      ],
      "metadata": {
        "id": "xpgW2lFMEouY"
      }
    },
    {
      "cell_type": "markdown",
      "source": [
        "##print() Statement"
      ],
      "metadata": {
        "id": "Awrv8VkXN_C2"
      }
    },
    {
      "cell_type": "code",
      "execution_count": null,
      "metadata": {
        "colab": {
          "base_uri": "https://localhost:8080/"
        },
        "id": "krcQPYHbEEcT",
        "outputId": "e89b81e4-4d90-4407-f243-d05313001660"
      },
      "outputs": [
        {
          "output_type": "stream",
          "name": "stdout",
          "text": [
            "1+2=5\n",
            "3\n",
            "Let's get started\n",
            "\n",
            "Hi, I am Abdullah Bin Mohammed,\n",
            "from India, This is my 'Introduction to Python' course.\n",
            "      __...--~~~~~-._   _.-~~~~~--...__\n",
            "    // Let's         `V'               \\ \n",
            "   //          Learn  |    Python       \\ \n",
            "  //__...--~~~~~~-._  |  _.-~~~~~~--...__\\ \n",
            " //__.....----~~~~._\\ | /_.~~~~----.....__\\\n",
            "====================\\|//====================\n",
            "                    `---`\n"
          ]
        }
      ],
      "source": [
        "#Let us see the different ways to use print() statement\n",
        "\n",
        "#Using ' '\n",
        "print('1+2=5')\n",
        "\n",
        "#Using NO quotes\n",
        "print(1+2)\n",
        "\n",
        "#Using \" \"\n",
        "print(\"Let's get started\")\n",
        "\n",
        "#Using ''' '''\n",
        "print('''\n",
        "Hi, I am Abdullah Bin Mohammed,\n",
        "from India, This is my 'Introduction to Python' course.\n",
        "      __...--~~~~~-._   _.-~~~~~--...__\n",
        "    // Let's         `V'               \\\\ \n",
        "   //          Learn  |    Python       \\\\ \n",
        "  //__...--~~~~~~-._  |  _.-~~~~~~--...__\\\\ \n",
        " //__.....----~~~~._\\ | /_.~~~~----.....__\\\\\n",
        "====================\\\\|//====================\n",
        "                    `---`''')"
      ]
    },
    {
      "cell_type": "markdown",
      "source": [
        "###Observations: print() statement"
      ],
      "metadata": {
        "id": "ED4EDCHmNaaI"
      }
    },
    {
      "cell_type": "markdown",
      "source": [
        "1. Whatever is typed in between two single quotes ' ' is printed as it is in the output even if it is illogical. Here, it is printed that the sum of 1 and 2 as 5.\n",
        "\n",
        "2. Whatever is given print() statement without quotes is calculated/ processed befor it ouputs.\n",
        "\n",
        "3. If we use single quote as a part of out sentence/statement, then double quotes are used at the start and at the end, inside a print() statement.\n",
        "Example: \"Adam's progeny\".\n",
        "\n",
        "4. If we want something to be printed as it is, in multiple lines we can use 3 single quotes both at the start and at the end, inside a print statement.\n"
      ],
      "metadata": {
        "id": "JZIEEF0IUWMb"
      }
    },
    {
      "cell_type": "markdown",
      "source": [
        "###Undesirable results: print() statement"
      ],
      "metadata": {
        "id": "xlG1zks9aA5e"
      }
    },
    {
      "cell_type": "code",
      "source": [
        "#As we provide NO quotes, it tried to process it, but it already received\n",
        "# expression, therefore it throws an error note. (syntax)\n",
        "\n",
        "print(1+2=3)"
      ],
      "metadata": {
        "colab": {
          "base_uri": "https://localhost:8080/",
          "height": 135
        },
        "id": "XnVDhFMdLsWN",
        "outputId": "9da0d112-80ab-4988-b257-1124f7584304"
      },
      "execution_count": null,
      "outputs": [
        {
          "output_type": "error",
          "ename": "SyntaxError",
          "evalue": "ignored",
          "traceback": [
            "\u001b[0;36m  File \u001b[0;32m\"<ipython-input-2-ef661f39a3b1>\"\u001b[0;36m, line \u001b[0;32m4\u001b[0m\n\u001b[0;31m    print(1+2=3)\u001b[0m\n\u001b[0m         ^\u001b[0m\n\u001b[0;31mSyntaxError\u001b[0m\u001b[0;31m:\u001b[0m keyword can't be an expression\n"
          ]
        }
      ]
    },
    {
      "cell_type": "code",
      "source": [
        "#It prints as it is without processing/calculating 1+2 as it is provided betweem quotes (single or double)\n",
        "print(\"1+2\")"
      ],
      "metadata": {
        "colab": {
          "base_uri": "https://localhost:8080/"
        },
        "id": "KnXTDbACc2jD",
        "outputId": "0f40d224-4216-4738-da9d-0a3eaa608daf"
      },
      "execution_count": null,
      "outputs": [
        {
          "output_type": "stream",
          "name": "stdout",
          "text": [
            "1+2\n"
          ]
        }
      ]
    },
    {
      "cell_type": "code",
      "source": [
        "#Confused with single and double quotes: It takes 'let' as a sentence and remaining all makes no sense to it\n",
        "print('Let's get started')"
      ],
      "metadata": {
        "colab": {
          "base_uri": "https://localhost:8080/",
          "height": 135
        },
        "id": "3-Lr9Lgzdjmn",
        "outputId": "7c46b42e-c7ba-4cb0-80e7-d9d9184a5e0f"
      },
      "execution_count": null,
      "outputs": [
        {
          "output_type": "error",
          "ename": "SyntaxError",
          "evalue": "ignored",
          "traceback": [
            "\u001b[0;36m  File \u001b[0;32m\"<ipython-input-5-ccc0c1e4ade2>\"\u001b[0;36m, line \u001b[0;32m2\u001b[0m\n\u001b[0;31m    print('Let's get started')\u001b[0m\n\u001b[0m               ^\u001b[0m\n\u001b[0;31mSyntaxError\u001b[0m\u001b[0;31m:\u001b[0m invalid syntax\n"
          ]
        }
      ]
    },
    {
      "cell_type": "code",
      "source": [
        "#If triple quotes replaced with double/ single quotes, it cannot print\n",
        "# multiple lines especially the ones with combination of single and double quotes.\n",
        "print(\"\n",
        "Hi, I am Abdullah Bin Mohammed,\n",
        "from India, This is my 'Introduction to Python' course.\n",
        "      __...--~~~~~-._   _.-~~~~~--...__\n",
        "    // Let's         `V'               \\\\ \n",
        "   //          Learn  |    Python       \\\\ \n",
        "  //__...--~~~~~~-._  |  _.-~~~~~~--...__\\\\ \n",
        " //__.....----~~~~._\\ | /_.~~~~----.....__\\\\\n",
        "====================\\\\|//====================\n",
        "                    `---`\")"
      ],
      "metadata": {
        "colab": {
          "base_uri": "https://localhost:8080/",
          "height": 135
        },
        "id": "XuU6muRkeh2D",
        "outputId": "84293898-0265-405d-fcf6-9777a06fcf68"
      },
      "execution_count": null,
      "outputs": [
        {
          "output_type": "error",
          "ename": "SyntaxError",
          "evalue": "ignored",
          "traceback": [
            "\u001b[0;36m  File \u001b[0;32m\"<ipython-input-6-4818711eca39>\"\u001b[0;36m, line \u001b[0;32m3\u001b[0m\n\u001b[0;31m    print(\"\u001b[0m\n\u001b[0m           ^\u001b[0m\n\u001b[0;31mSyntaxError\u001b[0m\u001b[0;31m:\u001b[0m EOL while scanning string literal\n"
          ]
        }
      ]
    },
    {
      "cell_type": "code",
      "source": [
        "#Case sensitive: Print() != print(), the latter is correct and the former is\n",
        "# incorrect as it contains P instead of p\n",
        "Print('Python')"
      ],
      "metadata": {
        "colab": {
          "base_uri": "https://localhost:8080/",
          "height": 208
        },
        "id": "tOCs878zqgSC",
        "outputId": "311d2747-670e-4bf8-e8f0-5775de970168"
      },
      "execution_count": null,
      "outputs": [
        {
          "output_type": "error",
          "ename": "NameError",
          "evalue": "ignored",
          "traceback": [
            "\u001b[0;31m---------------------------------------------------------------------------\u001b[0m",
            "\u001b[0;31mNameError\u001b[0m                                 Traceback (most recent call last)",
            "\u001b[0;32m<ipython-input-7-0110e0e3b81d>\u001b[0m in \u001b[0;36m<module>\u001b[0;34m()\u001b[0m\n\u001b[1;32m      1\u001b[0m \u001b[0;31m#Case sensitive: Print() != print(), the latter is correct and the former is\u001b[0m\u001b[0;34m\u001b[0m\u001b[0;34m\u001b[0m\u001b[0;34m\u001b[0m\u001b[0m\n\u001b[1;32m      2\u001b[0m \u001b[0;31m# incorrect as it contains P instead of p\u001b[0m\u001b[0;34m\u001b[0m\u001b[0;34m\u001b[0m\u001b[0;34m\u001b[0m\u001b[0m\n\u001b[0;32m----> 3\u001b[0;31m \u001b[0mPrint\u001b[0m\u001b[0;34m(\u001b[0m\u001b[0;34m'Python'\u001b[0m\u001b[0;34m)\u001b[0m\u001b[0;34m\u001b[0m\u001b[0;34m\u001b[0m\u001b[0m\n\u001b[0m",
            "\u001b[0;31mNameError\u001b[0m: name 'Print' is not defined"
          ]
        }
      ]
    },
    {
      "cell_type": "markdown",
      "source": [
        "###Additional information: print() statement\n",
        "\n",
        "*  Activity\n",
        "*  Analyse/understand them on your own"
      ],
      "metadata": {
        "id": "M7jWpt4_f2V2"
      }
    },
    {
      "cell_type": "code",
      "source": [
        "a = 10\n",
        "print(a)\n",
        "print(f'The value of a is {a}')"
      ],
      "metadata": {
        "colab": {
          "base_uri": "https://localhost:8080/"
        },
        "id": "fuzY83bDfugT",
        "outputId": "4ac681b4-4123-474a-d5a3-f64517a7085d"
      },
      "execution_count": null,
      "outputs": [
        {
          "output_type": "stream",
          "name": "stdout",
          "text": [
            "10\n",
            "The value of a is 10\n"
          ]
        }
      ]
    },
    {
      "cell_type": "code",
      "source": [
        "print{\"python\"}"
      ],
      "metadata": {
        "colab": {
          "base_uri": "https://localhost:8080/",
          "height": 135
        },
        "id": "dKjitSa3h1NQ",
        "outputId": "b39ea796-9dae-4aab-c1d7-49a13666ae2b"
      },
      "execution_count": null,
      "outputs": [
        {
          "output_type": "error",
          "ename": "SyntaxError",
          "evalue": "ignored",
          "traceback": [
            "\u001b[0;36m  File \u001b[0;32m\"<ipython-input-13-c519a24fe53a>\"\u001b[0;36m, line \u001b[0;32m1\u001b[0m\n\u001b[0;31m    print{\"python\"}\u001b[0m\n\u001b[0m         ^\u001b[0m\n\u001b[0;31mSyntaxError\u001b[0m\u001b[0;31m:\u001b[0m invalid syntax\n"
          ]
        }
      ]
    },
    {
      "cell_type": "code",
      "source": [
        "print[\"python\"]"
      ],
      "metadata": {
        "colab": {
          "base_uri": "https://localhost:8080/",
          "height": 171
        },
        "id": "_8JLIUxph8ik",
        "outputId": "f2f13bfb-fd71-4dc8-e052-e407f318e125"
      },
      "execution_count": null,
      "outputs": [
        {
          "output_type": "error",
          "ename": "TypeError",
          "evalue": "ignored",
          "traceback": [
            "\u001b[0;31m---------------------------------------------------------------------------\u001b[0m",
            "\u001b[0;31mTypeError\u001b[0m                                 Traceback (most recent call last)",
            "\u001b[0;32m<ipython-input-14-de56f7e92550>\u001b[0m in \u001b[0;36m<module>\u001b[0;34m()\u001b[0m\n\u001b[0;32m----> 1\u001b[0;31m \u001b[0mprint\u001b[0m\u001b[0;34m[\u001b[0m\u001b[0;34m\"python\"\u001b[0m\u001b[0;34m]\u001b[0m\u001b[0;34m\u001b[0m\u001b[0;34m\u001b[0m\u001b[0m\n\u001b[0m",
            "\u001b[0;31mTypeError\u001b[0m: 'builtin_function_or_method' object is not subscriptable"
          ]
        }
      ]
    },
    {
      "cell_type": "code",
      "source": [
        "print<\"python\">"
      ],
      "metadata": {
        "colab": {
          "base_uri": "https://localhost:8080/",
          "height": 135
        },
        "id": "jV0lRxfzh8TB",
        "outputId": "0a461b0c-b639-496f-e084-eebe9277f37f"
      },
      "execution_count": null,
      "outputs": [
        {
          "output_type": "error",
          "ename": "SyntaxError",
          "evalue": "ignored",
          "traceback": [
            "\u001b[0;36m  File \u001b[0;32m\"<ipython-input-15-7b1b6eade9de>\"\u001b[0;36m, line \u001b[0;32m1\u001b[0m\n\u001b[0;31m    print<\"python\">\u001b[0m\n\u001b[0m                   ^\u001b[0m\n\u001b[0;31mSyntaxError\u001b[0m\u001b[0;31m:\u001b[0m invalid syntax\n"
          ]
        }
      ]
    },
    {
      "cell_type": "code",
      "source": [
        "#new line character '\\n'\n",
        "print(\"End of Print() statement\\nLet's now learn Input() statement\")"
      ],
      "metadata": {
        "colab": {
          "base_uri": "https://localhost:8080/"
        },
        "id": "xmbVOqUdrS1q",
        "outputId": "6cd24c21-f14a-4caf-f249-cd9b82e9c274"
      },
      "execution_count": null,
      "outputs": [
        {
          "output_type": "stream",
          "name": "stdout",
          "text": [
            "End of Print() statement\n",
            "Let's now learn Input() statement\n"
          ]
        }
      ]
    },
    {
      "cell_type": "markdown",
      "source": [
        "##Variables and input() statement "
      ],
      "metadata": {
        "id": "xWbgy3MngdUg"
      }
    },
    {
      "cell_type": "code",
      "source": [
        "#Assigning a value to a variable directly in the code part.\n",
        "a = 'z'\n",
        "print(a)\n",
        "\n",
        "e = 'Eve'\n",
        "print(b)\n",
        "\n",
        "c = '10'\n",
        "print(c)\n",
        "\n",
        "A = 100\n",
        "print(A)\n",
        "\n",
        "a1 =101\n",
        "print(a1)\n",
        "\n",
        "a_point = 100.1\n",
        "print(a_point)\n",
        "\n",
        "_space = 'CoSmOs'\n",
        "print(_space)"
      ],
      "metadata": {
        "colab": {
          "base_uri": "https://localhost:8080/"
        },
        "id": "GyYubwo1erzx",
        "outputId": "1d3f336a-2ecc-45fc-83a3-a17380af83f8"
      },
      "execution_count": null,
      "outputs": [
        {
          "output_type": "stream",
          "name": "stdout",
          "text": [
            "z\n",
            "q\n",
            "10\n",
            "100\n",
            "101\n",
            "100.1\n",
            "CoSmOs\n"
          ]
        }
      ]
    },
    {
      "cell_type": "code",
      "source": [
        "# Alternate way of assigning a value to the variable \n",
        "# (through input() statement, also called dynamic inputting)\n",
        "PI = input()\n",
        "print (PI)\n",
        "\n",
        "print('\\n') #leaves a line space in the output\n",
        "\n",
        "Score = input(\"Enter your python score: \")\n",
        "print(Score)\n"
      ],
      "metadata": {
        "colab": {
          "base_uri": "https://localhost:8080/"
        },
        "id": "K0eHQtM2nxsV",
        "outputId": "3ea580cf-2739-4eed-c8cd-3e7379f8ba57"
      },
      "execution_count": null,
      "outputs": [
        {
          "output_type": "stream",
          "name": "stdout",
          "text": [
            "3.14\n",
            "3.14\n",
            "\n",
            "\n",
            "Enter your python score: 100\n",
            "100\n"
          ]
        }
      ]
    },
    {
      "cell_type": "markdown",
      "source": [
        "###Observations: Variable and input() statement\n",
        "*   We can have variables comprising uppercase and lowercase alphabets, numbers and underscore symbol: _ \n",
        "*   We can store various tpyes of values like single character(alphabet or number character), string(group of characters, sentences) and numerical values(integers, float-decimals..).\n",
        "*   Variable A and variable a are NOT same (variables are case sensitive).\n",
        "*   We use ' ' or \" \" to let know python that its a string and for number values no quotes are required unless they are a character.\n",
        "*   We can take the value of the variable from output using input() statement.\n",
        "*   input() statement takes values and store them as a string by default.\n",
        "*   We can add strings inside input() statement."
      ],
      "metadata": {
        "id": "BgWSpi6zvAR2"
      }
    },
    {
      "cell_type": "markdown",
      "source": [
        "###Undesirable results: variable and input() statement"
      ],
      "metadata": {
        "id": "_-FjuFG7zebM"
      }
    },
    {
      "cell_type": "code",
      "source": [
        "#some words are reserved in pyton that cannot be used as variables\n",
        "True = 'yes'"
      ],
      "metadata": {
        "colab": {
          "base_uri": "https://localhost:8080/",
          "height": 135
        },
        "id": "uckEBG6Cpqbl",
        "outputId": "e4699592-093c-4d89-8277-2efa1c3b7835"
      },
      "execution_count": null,
      "outputs": [
        {
          "output_type": "error",
          "ename": "SyntaxError",
          "evalue": "ignored",
          "traceback": [
            "\u001b[0;36m  File \u001b[0;32m\"<ipython-input-26-d7a98c31ab08>\"\u001b[0;36m, line \u001b[0;32m1\u001b[0m\n\u001b[0;31m    True = 'yes'\u001b[0m\n\u001b[0m                ^\u001b[0m\n\u001b[0;31mSyntaxError\u001b[0m\u001b[0;31m:\u001b[0m can't assign to keyword\n"
          ]
        }
      ]
    },
    {
      "cell_type": "code",
      "source": [
        "#No gaps/blank space is allowed in between the name of a variable\n",
        "my name = \"Abdullah\""
      ],
      "metadata": {
        "colab": {
          "base_uri": "https://localhost:8080/",
          "height": 135
        },
        "id": "uLX9hG0fAyq4",
        "outputId": "0bb3656b-5247-4d63-d54d-84cefbf70c89"
      },
      "execution_count": 49,
      "outputs": [
        {
          "output_type": "error",
          "ename": "SyntaxError",
          "evalue": "ignored",
          "traceback": [
            "\u001b[0;36m  File \u001b[0;32m\"<ipython-input-49-141d85e6100a>\"\u001b[0;36m, line \u001b[0;32m1\u001b[0m\n\u001b[0;31m    my name = \"Abdullah\"\u001b[0m\n\u001b[0m          ^\u001b[0m\n\u001b[0;31mSyntaxError\u001b[0m\u001b[0;31m:\u001b[0m invalid syntax\n"
          ]
        }
      ]
    },
    {
      "cell_type": "code",
      "source": [
        "#eventhough we can use numbers in variable names, they cannot begin with numbers\n",
        "1a = 103"
      ],
      "metadata": {
        "colab": {
          "base_uri": "https://localhost:8080/",
          "height": 135
        },
        "id": "OUqeFqzMzriD",
        "outputId": "72f5548d-1f2d-41c7-dcb4-cd327ce6c920"
      },
      "execution_count": null,
      "outputs": [
        {
          "output_type": "error",
          "ename": "SyntaxError",
          "evalue": "ignored",
          "traceback": [
            "\u001b[0;36m  File \u001b[0;32m\"<ipython-input-27-bd2809f3e233>\"\u001b[0;36m, line \u001b[0;32m2\u001b[0m\n\u001b[0;31m    1a = 103\u001b[0m\n\u001b[0m     ^\u001b[0m\n\u001b[0;31mSyntaxError\u001b[0m\u001b[0;31m:\u001b[0m invalid syntax\n"
          ]
        }
      ]
    },
    {
      "cell_type": "code",
      "source": [
        "#No quotes are acceptable in variable name\n",
        "'a1' = 10"
      ],
      "metadata": {
        "colab": {
          "base_uri": "https://localhost:8080/",
          "height": 135
        },
        "id": "Wv7-lMpI0fFI",
        "outputId": "a9a5041f-69e1-4337-86b7-ded48ebb25e6"
      },
      "execution_count": null,
      "outputs": [
        {
          "output_type": "error",
          "ename": "SyntaxError",
          "evalue": "ignored",
          "traceback": [
            "\u001b[0;36m  File \u001b[0;32m\"<ipython-input-32-12976cd57eff>\"\u001b[0;36m, line \u001b[0;32m1\u001b[0m\n\u001b[0;31m    'a1' = 10:\u001b[0m\n\u001b[0m             ^\u001b[0m\n\u001b[0;31mSyntaxError\u001b[0m\u001b[0;31m:\u001b[0m invalid syntax\n"
          ]
        }
      ]
    },
    {
      "cell_type": "code",
      "source": [
        "#recap c = '10' and A = 100, c is string and A is an integer, they cannot be \n",
        "# added as they are of different data types\n",
        "print(c+A)"
      ],
      "metadata": {
        "colab": {
          "base_uri": "https://localhost:8080/",
          "height": 190
        },
        "id": "CNLJkQrU1vzj",
        "outputId": "6d746e51-dcb8-49b2-81a5-55313daaba24"
      },
      "execution_count": null,
      "outputs": [
        {
          "output_type": "error",
          "ename": "TypeError",
          "evalue": "ignored",
          "traceback": [
            "\u001b[0;31m---------------------------------------------------------------------------\u001b[0m",
            "\u001b[0;31mTypeError\u001b[0m                                 Traceback (most recent call last)",
            "\u001b[0;32m<ipython-input-33-8681321a0f21>\u001b[0m in \u001b[0;36m<module>\u001b[0;34m()\u001b[0m\n\u001b[1;32m      1\u001b[0m \u001b[0;31m#recap c = '10' and A = 100\u001b[0m\u001b[0;34m\u001b[0m\u001b[0;34m\u001b[0m\u001b[0;34m\u001b[0m\u001b[0m\n\u001b[0;32m----> 2\u001b[0;31m \u001b[0mprint\u001b[0m\u001b[0;34m(\u001b[0m\u001b[0mc\u001b[0m\u001b[0;34m+\u001b[0m\u001b[0mA\u001b[0m\u001b[0;34m)\u001b[0m\u001b[0;34m\u001b[0m\u001b[0;34m\u001b[0m\u001b[0m\n\u001b[0m",
            "\u001b[0;31mTypeError\u001b[0m: can only concatenate str (not \"int\") to str"
          ]
        }
      ]
    },
    {
      "cell_type": "code",
      "source": [
        "#As PI is assigned a value using input() statement, it stores a string of 3.14\n",
        "#'3.14' but not as 3.14, therefore we cannot add/concatenate integer to a string\n",
        "print(Pi + 10)"
      ],
      "metadata": {
        "colab": {
          "base_uri": "https://localhost:8080/",
          "height": 208
        },
        "id": "Mmd96N782oJE",
        "outputId": "120c547d-9ff2-4afc-c26e-e04841745b5e"
      },
      "execution_count": null,
      "outputs": [
        {
          "output_type": "error",
          "ename": "TypeError",
          "evalue": "ignored",
          "traceback": [
            "\u001b[0;31m---------------------------------------------------------------------------\u001b[0m",
            "\u001b[0;31mTypeError\u001b[0m                                 Traceback (most recent call last)",
            "\u001b[0;32m<ipython-input-35-0a1211d673ab>\u001b[0m in \u001b[0;36m<module>\u001b[0;34m()\u001b[0m\n\u001b[1;32m      1\u001b[0m \u001b[0;31m#As Pi is assigned a value using input() statement, it stores a string of 3.14\u001b[0m\u001b[0;34m\u001b[0m\u001b[0;34m\u001b[0m\u001b[0;34m\u001b[0m\u001b[0m\n\u001b[1;32m      2\u001b[0m \u001b[0;31m#'3.14' but not as 3.14, therefore we cannot add/concatenate integer to a string\u001b[0m\u001b[0;34m\u001b[0m\u001b[0;34m\u001b[0m\u001b[0;34m\u001b[0m\u001b[0m\n\u001b[0;32m----> 3\u001b[0;31m \u001b[0mprint\u001b[0m\u001b[0;34m(\u001b[0m\u001b[0mPi\u001b[0m \u001b[0;34m+\u001b[0m \u001b[0;36m10\u001b[0m\u001b[0;34m)\u001b[0m\u001b[0;34m\u001b[0m\u001b[0;34m\u001b[0m\u001b[0m\n\u001b[0m",
            "\u001b[0;31mTypeError\u001b[0m: can only concatenate str (not \"int\") to str"
          ]
        }
      ]
    },
    {
      "cell_type": "code",
      "source": [
        "#Variable name is case sensitive, pi != Pi\n",
        "print(pi)"
      ],
      "metadata": {
        "colab": {
          "base_uri": "https://localhost:8080/",
          "height": 171
        },
        "id": "I5szRs2K3SIX",
        "outputId": "04eb6749-0646-4757-cb1d-cc97b7c3db9e"
      },
      "execution_count": null,
      "outputs": [
        {
          "output_type": "error",
          "ename": "NameError",
          "evalue": "ignored",
          "traceback": [
            "\u001b[0;31m---------------------------------------------------------------------------\u001b[0m",
            "\u001b[0;31mNameError\u001b[0m                                 Traceback (most recent call last)",
            "\u001b[0;32m<ipython-input-36-9e2d2bd32686>\u001b[0m in \u001b[0;36m<module>\u001b[0;34m()\u001b[0m\n\u001b[0;32m----> 1\u001b[0;31m \u001b[0mprint\u001b[0m\u001b[0;34m(\u001b[0m\u001b[0mpi\u001b[0m\u001b[0;34m)\u001b[0m\u001b[0;34m\u001b[0m\u001b[0;34m\u001b[0m\u001b[0m\n\u001b[0m",
            "\u001b[0;31mNameError\u001b[0m: name 'pi' is not defined"
          ]
        }
      ]
    },
    {
      "cell_type": "markdown",
      "source": [
        "###Additional information: Variables and input() statement"
      ],
      "metadata": {
        "id": "XBXlowQO4T2l"
      }
    },
    {
      "cell_type": "code",
      "source": [
        "#input() assigned a string value called Ayyan to n\n",
        "#therefore n = \"Ayyan\"\n",
        "#print() have the value of n added by typing n in between two commas: ,n,\n",
        "# note that the string before n is closed and string, thereafter, is opened using \"\n",
        "n = input()\n",
        "print(\"Hi\",n)\n",
        "print(\"Hello\",n,\"how are you?\")"
      ],
      "metadata": {
        "colab": {
          "base_uri": "https://localhost:8080/"
        },
        "id": "4h3aIBSy4Dbu",
        "outputId": "8ca0ae40-66fd-4dcf-b5f3-c47e1eb4f557"
      },
      "execution_count": null,
      "outputs": [
        {
          "output_type": "stream",
          "name": "stdout",
          "text": [
            "Ayyaan\n",
            "Hi Ayyaan\n",
            "Hello Ayyaan how are you?\n"
          ]
        }
      ]
    },
    {
      "cell_type": "code",
      "source": [
        "#Genetally input() takes value as a string, we are converting it into an integer\n",
        "#besides int, we can use float, string ... \n",
        "kbc = int(input(\"Enter the value you have won: \"))\n",
        "print(kbc)\n",
        "print(kbc*10)  #It will not modify the variable kbc\n",
        "print(float(kbc))  #It will not modify the variable kbc"
      ],
      "metadata": {
        "id": "UWVDpFNd4mVX",
        "colab": {
          "base_uri": "https://localhost:8080/"
        },
        "outputId": "8c596aea-b6df-44d6-ae13-41ec6f93f85f"
      },
      "execution_count": 48,
      "outputs": [
        {
          "output_type": "stream",
          "name": "stdout",
          "text": [
            "Enter the value you have won: 10000000\n",
            "10000000\n",
            "100000000\n",
            "10000000.0\n"
          ]
        }
      ]
    },
    {
      "cell_type": "code",
      "source": [
        "#We can modify value in input() using .lower() and .upper() to obtain lowercase\n",
        "# and uppercase values respectively \n",
        "my_name = input(\"Enter your first name: \").upper()\n",
        "print(my_name)"
      ],
      "metadata": {
        "colab": {
          "base_uri": "https://localhost:8080/"
        },
        "id": "S5F9O5GA_-Tj",
        "outputId": "f5b12f67-4e3d-4964-c3ab-e351f392ac7f"
      },
      "execution_count": 51,
      "outputs": [
        {
          "output_type": "stream",
          "name": "stdout",
          "text": [
            "Enter your first name: abdullah\n",
            "ABDULLAH\n"
          ]
        }
      ]
    },
    {
      "cell_type": "code",
      "source": [
        ""
      ],
      "metadata": {
        "id": "wsUSF9lsBNSH"
      },
      "execution_count": null,
      "outputs": []
    }
  ]
}