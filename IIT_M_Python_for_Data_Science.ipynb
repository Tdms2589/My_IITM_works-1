{
  "nbformat": 4,
  "nbformat_minor": 0,
  "metadata": {
    "colab": {
      "name": "IIT-M_Python_for_Data_Science.ipynb",
      "provenance": [],
      "collapsed_sections": [],
      "authorship_tag": "ABX9TyPckx5MkJJQkrCwDoRauXMf",
      "include_colab_link": true
    },
    "kernelspec": {
      "name": "python3",
      "display_name": "Python 3"
    },
    "language_info": {
      "name": "python"
    }
  },
  "cells": [
    {
      "cell_type": "markdown",
      "metadata": {
        "id": "view-in-github",
        "colab_type": "text"
      },
      "source": [
        "<a href=\"https://colab.research.google.com/github/abm4github/My_IITM_works/blob/main/IIT_M_Python_for_Data_Science.ipynb\" target=\"_parent\"><img src=\"https://colab.research.google.com/assets/colab-badge.svg\" alt=\"Open In Colab\"/></a>"
      ]
    },
    {
      "cell_type": "markdown",
      "source": [
        "#Python for Data Science\n",
        "##Foundational Course, IIT-M, B.Sc. in Programming and Data Science"
      ],
      "metadata": {
        "id": "keTfzpHOEnCy"
      }
    },
    {
      "cell_type": "markdown",
      "source": [
        "This google colab is meant for the students of IIT-M, B.Sc. in Programming and Data Science. It is based on the syllabus of the year 2022.\n",
        "\n",
        "Disclaimer: This is not an official notes by IIT-M, it is prepared by a student of IIT-M. Therefore the mistakes, if any in this colab are not attributed to IIT-M"
      ],
      "metadata": {
        "id": "xpgW2lFMEouY"
      }
    },
    {
      "cell_type": "markdown",
      "source": [
        "##print() Statement"
      ],
      "metadata": {
        "id": "Awrv8VkXN_C2"
      }
    },
    {
      "cell_type": "code",
      "execution_count": 53,
      "metadata": {
        "colab": {
          "base_uri": "https://localhost:8080/"
        },
        "id": "krcQPYHbEEcT",
        "outputId": "763334df-063d-4681-9301-dc8734eec43b"
      },
      "outputs": [
        {
          "output_type": "stream",
          "name": "stdout",
          "text": [
            "1+2=5\n",
            "3\n",
            "Let's get started\n",
            "\n",
            "Hi, I am Abdullah Bin Mohammed,\n",
            "from India, This is my 'Introduction to Python' course.\n",
            "      __...--~~~~~-._   _.-~~~~~--...__\n",
            "    // Let's         `V'               \\ \n",
            "   //          Learn  |    Python       \\ \n",
            "  //__...--~~~~~~-._  |  _.-~~~~~~--...__\\ \n",
            " //__.....----~~~~._\\ | /_.~~~~----.....__\\\n",
            "====================\\|//====================\n",
            "                    `---`\n"
          ]
        }
      ],
      "source": [
        "#Let us see the different ways to use print() statement\n",
        "\n",
        "#Using ' '\n",
        "print('1+2=5')\n",
        "\n",
        "#Using NO quotes\n",
        "print(1+2)\n",
        "\n",
        "#Using \" \"\n",
        "print(\"Let's get started\")\n",
        "\n",
        "#Using ''' '''\n",
        "print('''\n",
        "Hi, I am Abdullah Bin Mohammed,\n",
        "from India, This is my 'Introduction to Python' course.\n",
        "      __...--~~~~~-._   _.-~~~~~--...__\n",
        "    // Let's         `V'               \\\\ \n",
        "   //          Learn  |    Python       \\\\ \n",
        "  //__...--~~~~~~-._  |  _.-~~~~~~--...__\\\\ \n",
        " //__.....----~~~~._\\ | /_.~~~~----.....__\\\\\n",
        "====================\\\\|//====================\n",
        "                    `---`''')"
      ]
    },
    {
      "cell_type": "markdown",
      "source": [
        "###Observations: print() statement"
      ],
      "metadata": {
        "id": "ED4EDCHmNaaI"
      }
    },
    {
      "cell_type": "markdown",
      "source": [
        "1. Whatever is typed in between two single quotes ' ' is printed as it is in the output even if it is illogical. Here, it is printed that the sum of 1 and 2 as 5.\n",
        "\n",
        "2. Whatever is given print() statement without quotes is calculated/ processed befor it ouputs.\n",
        "\n",
        "3. If we use single quote as a part of out sentence/statement, then double quotes are used at the start and at the end, inside a print() statement.\n",
        "Example: \"Adam's progeny\".\n",
        "\n",
        "4. If we want something to be printed as it is, in multiple lines we can use 3 single quotes both at the start and at the end, inside a print statement.\n"
      ],
      "metadata": {
        "id": "JZIEEF0IUWMb"
      }
    },
    {
      "cell_type": "markdown",
      "source": [
        "###Undesirable results: print() statement"
      ],
      "metadata": {
        "id": "xlG1zks9aA5e"
      }
    },
    {
      "cell_type": "code",
      "source": [
        "#As we provide NO quotes, it tried to process it, but it already received\n",
        "# expression, therefore it throws an error note. (syntax)\n",
        "\n",
        "print(1+2=3)"
      ],
      "metadata": {
        "colab": {
          "base_uri": "https://localhost:8080/",
          "height": 135
        },
        "id": "XnVDhFMdLsWN",
        "outputId": "eadd90f9-847d-48b2-c435-ea379e2f94c1"
      },
      "execution_count": 54,
      "outputs": [
        {
          "output_type": "error",
          "ename": "SyntaxError",
          "evalue": "ignored",
          "traceback": [
            "\u001b[0;36m  File \u001b[0;32m\"<ipython-input-54-ef661f39a3b1>\"\u001b[0;36m, line \u001b[0;32m4\u001b[0m\n\u001b[0;31m    print(1+2=3)\u001b[0m\n\u001b[0m         ^\u001b[0m\n\u001b[0;31mSyntaxError\u001b[0m\u001b[0;31m:\u001b[0m keyword can't be an expression\n"
          ]
        }
      ]
    },
    {
      "cell_type": "code",
      "source": [
        "#It prints as it is without processing/calculating 1+2 as it is provided betweem quotes (single or double)\n",
        "print(\"1+2\")"
      ],
      "metadata": {
        "id": "KnXTDbACc2jD"
      },
      "execution_count": null,
      "outputs": []
    },
    {
      "cell_type": "code",
      "source": [
        "#Confused with single and double quotes: It takes 'let' as a sentence and remaining all makes no sense to it\n",
        "print('Let's get started')"
      ],
      "metadata": {
        "colab": {
          "base_uri": "https://localhost:8080/",
          "height": 135
        },
        "id": "3-Lr9Lgzdjmn",
        "outputId": "16884896-ad1e-4c77-bab7-17d576285837"
      },
      "execution_count": 55,
      "outputs": [
        {
          "output_type": "error",
          "ename": "SyntaxError",
          "evalue": "ignored",
          "traceback": [
            "\u001b[0;36m  File \u001b[0;32m\"<ipython-input-55-ccc0c1e4ade2>\"\u001b[0;36m, line \u001b[0;32m2\u001b[0m\n\u001b[0;31m    print('Let's get started')\u001b[0m\n\u001b[0m               ^\u001b[0m\n\u001b[0;31mSyntaxError\u001b[0m\u001b[0;31m:\u001b[0m invalid syntax\n"
          ]
        }
      ]
    },
    {
      "cell_type": "code",
      "source": [
        "#If triple quotes replaced with double/ single quotes, it cannot print\n",
        "# multiple lines especially the ones with combination of single and double quotes.\n",
        "print(\"\n",
        "Hi, I am Abdullah Bin Mohammed,\n",
        "from India, This is my 'Introduction to Python' course.\n",
        "      __...--~~~~~-._   _.-~~~~~--...__\n",
        "    // Let's         `V'               \\\\ \n",
        "   //          Learn  |    Python       \\\\ \n",
        "  //__...--~~~~~~-._  |  _.-~~~~~~--...__\\\\ \n",
        " //__.....----~~~~._\\ | /_.~~~~----.....__\\\\\n",
        "====================\\\\|//====================\n",
        "                    `---`\")"
      ],
      "metadata": {
        "colab": {
          "base_uri": "https://localhost:8080/",
          "height": 135
        },
        "id": "XuU6muRkeh2D",
        "outputId": "ba3eacdc-2b4b-41d3-a2a5-d5994acbd09a"
      },
      "execution_count": 56,
      "outputs": [
        {
          "output_type": "error",
          "ename": "SyntaxError",
          "evalue": "ignored",
          "traceback": [
            "\u001b[0;36m  File \u001b[0;32m\"<ipython-input-56-4818711eca39>\"\u001b[0;36m, line \u001b[0;32m3\u001b[0m\n\u001b[0;31m    print(\"\u001b[0m\n\u001b[0m           ^\u001b[0m\n\u001b[0;31mSyntaxError\u001b[0m\u001b[0;31m:\u001b[0m EOL while scanning string literal\n"
          ]
        }
      ]
    },
    {
      "cell_type": "code",
      "source": [
        "#Case sensitive: Print() != print(), the latter is correct and the former is\n",
        "# incorrect as it contains P instead of p\n",
        "Print('Python')"
      ],
      "metadata": {
        "colab": {
          "base_uri": "https://localhost:8080/",
          "height": 208
        },
        "id": "tOCs878zqgSC",
        "outputId": "297ccf4d-2000-4312-f1dd-8cffbe0d699f"
      },
      "execution_count": 57,
      "outputs": [
        {
          "output_type": "error",
          "ename": "NameError",
          "evalue": "ignored",
          "traceback": [
            "\u001b[0;31m---------------------------------------------------------------------------\u001b[0m",
            "\u001b[0;31mNameError\u001b[0m                                 Traceback (most recent call last)",
            "\u001b[0;32m<ipython-input-57-0110e0e3b81d>\u001b[0m in \u001b[0;36m<module>\u001b[0;34m()\u001b[0m\n\u001b[1;32m      1\u001b[0m \u001b[0;31m#Case sensitive: Print() != print(), the latter is correct and the former is\u001b[0m\u001b[0;34m\u001b[0m\u001b[0;34m\u001b[0m\u001b[0;34m\u001b[0m\u001b[0m\n\u001b[1;32m      2\u001b[0m \u001b[0;31m# incorrect as it contains P instead of p\u001b[0m\u001b[0;34m\u001b[0m\u001b[0;34m\u001b[0m\u001b[0;34m\u001b[0m\u001b[0m\n\u001b[0;32m----> 3\u001b[0;31m \u001b[0mPrint\u001b[0m\u001b[0;34m(\u001b[0m\u001b[0;34m'Python'\u001b[0m\u001b[0;34m)\u001b[0m\u001b[0;34m\u001b[0m\u001b[0;34m\u001b[0m\u001b[0m\n\u001b[0m",
            "\u001b[0;31mNameError\u001b[0m: name 'Print' is not defined"
          ]
        }
      ]
    },
    {
      "cell_type": "markdown",
      "source": [
        "###Additional information: print() statement\n",
        "\n",
        "*  Activity\n",
        "*  Analyse/understand them on your own"
      ],
      "metadata": {
        "id": "M7jWpt4_f2V2"
      }
    },
    {
      "cell_type": "code",
      "source": [
        "a = 10\n",
        "print(a)\n",
        "print(f'The value of a is {a}')"
      ],
      "metadata": {
        "colab": {
          "base_uri": "https://localhost:8080/"
        },
        "id": "fuzY83bDfugT",
        "outputId": "7210d543-ae02-42cb-e2ad-889455de8a12"
      },
      "execution_count": 58,
      "outputs": [
        {
          "output_type": "stream",
          "name": "stdout",
          "text": [
            "10\n",
            "The value of a is 10\n"
          ]
        }
      ]
    },
    {
      "cell_type": "code",
      "source": [
        "print{\"python\"}"
      ],
      "metadata": {
        "colab": {
          "base_uri": "https://localhost:8080/",
          "height": 135
        },
        "id": "dKjitSa3h1NQ",
        "outputId": "486dacf2-7c90-4e21-a085-551a84d9d30e"
      },
      "execution_count": 59,
      "outputs": [
        {
          "output_type": "error",
          "ename": "SyntaxError",
          "evalue": "ignored",
          "traceback": [
            "\u001b[0;36m  File \u001b[0;32m\"<ipython-input-59-c519a24fe53a>\"\u001b[0;36m, line \u001b[0;32m1\u001b[0m\n\u001b[0;31m    print{\"python\"}\u001b[0m\n\u001b[0m         ^\u001b[0m\n\u001b[0;31mSyntaxError\u001b[0m\u001b[0;31m:\u001b[0m invalid syntax\n"
          ]
        }
      ]
    },
    {
      "cell_type": "code",
      "source": [
        "print[\"python\"]"
      ],
      "metadata": {
        "colab": {
          "base_uri": "https://localhost:8080/",
          "height": 171
        },
        "id": "_8JLIUxph8ik",
        "outputId": "4e233de5-9358-4ca9-9a0a-b46d808df674"
      },
      "execution_count": 60,
      "outputs": [
        {
          "output_type": "error",
          "ename": "TypeError",
          "evalue": "ignored",
          "traceback": [
            "\u001b[0;31m---------------------------------------------------------------------------\u001b[0m",
            "\u001b[0;31mTypeError\u001b[0m                                 Traceback (most recent call last)",
            "\u001b[0;32m<ipython-input-60-de56f7e92550>\u001b[0m in \u001b[0;36m<module>\u001b[0;34m()\u001b[0m\n\u001b[0;32m----> 1\u001b[0;31m \u001b[0mprint\u001b[0m\u001b[0;34m[\u001b[0m\u001b[0;34m\"python\"\u001b[0m\u001b[0;34m]\u001b[0m\u001b[0;34m\u001b[0m\u001b[0;34m\u001b[0m\u001b[0m\n\u001b[0m",
            "\u001b[0;31mTypeError\u001b[0m: 'builtin_function_or_method' object is not subscriptable"
          ]
        }
      ]
    },
    {
      "cell_type": "code",
      "source": [
        "print<\"python\">"
      ],
      "metadata": {
        "colab": {
          "base_uri": "https://localhost:8080/",
          "height": 135
        },
        "id": "jV0lRxfzh8TB",
        "outputId": "9e4dc303-2262-48a9-db39-98544159c87a"
      },
      "execution_count": 61,
      "outputs": [
        {
          "output_type": "error",
          "ename": "SyntaxError",
          "evalue": "ignored",
          "traceback": [
            "\u001b[0;36m  File \u001b[0;32m\"<ipython-input-61-7b1b6eade9de>\"\u001b[0;36m, line \u001b[0;32m1\u001b[0m\n\u001b[0;31m    print<\"python\">\u001b[0m\n\u001b[0m                   ^\u001b[0m\n\u001b[0;31mSyntaxError\u001b[0m\u001b[0;31m:\u001b[0m invalid syntax\n"
          ]
        }
      ]
    },
    {
      "cell_type": "code",
      "source": [
        "#new line character '\\n'\n",
        "print(\"End of Print() statement\\nLet's now learn Input() statement\")"
      ],
      "metadata": {
        "colab": {
          "base_uri": "https://localhost:8080/"
        },
        "id": "xmbVOqUdrS1q",
        "outputId": "9793def6-aa2f-44a2-8813-a348cea9e76e"
      },
      "execution_count": 62,
      "outputs": [
        {
          "output_type": "stream",
          "name": "stdout",
          "text": [
            "End of Print() statement\n",
            "Let's now learn Input() statement\n"
          ]
        }
      ]
    },
    {
      "cell_type": "markdown",
      "source": [
        "##Variables and input() statement "
      ],
      "metadata": {
        "id": "xWbgy3MngdUg"
      }
    },
    {
      "cell_type": "code",
      "source": [
        "#Assigning a value to a variable directly in the code part.\n",
        "a = 'z'\n",
        "print(a)\n",
        "\n",
        "e = 'Eve'\n",
        "print(b)\n",
        "\n",
        "c = '10'\n",
        "print(c)\n",
        "\n",
        "A = 100\n",
        "print(A)\n",
        "\n",
        "a1 =101\n",
        "print(a1)\n",
        "\n",
        "a_point = 100.1\n",
        "print(a_point)\n",
        "\n",
        "_space = 'CoSmOs'\n",
        "print(_space)"
      ],
      "metadata": {
        "colab": {
          "base_uri": "https://localhost:8080/"
        },
        "id": "GyYubwo1erzx",
        "outputId": "e7c738d8-c906-4f02-a64d-4bcf94dadada"
      },
      "execution_count": 63,
      "outputs": [
        {
          "output_type": "stream",
          "name": "stdout",
          "text": [
            "z\n",
            "q\n",
            "10\n",
            "100\n",
            "101\n",
            "100.1\n",
            "CoSmOs\n"
          ]
        }
      ]
    },
    {
      "cell_type": "code",
      "source": [
        "# Alternate way of assigning a value to the variable \n",
        "# (through input() statement, also called dynamic inputting)\n",
        "PI = input()\n",
        "print (PI)\n",
        "\n",
        "print('\\n') #leaves a line space in the output\n",
        "\n",
        "Score = input(\"Enter your python score: \")\n",
        "print(Score)\n"
      ],
      "metadata": {
        "colab": {
          "base_uri": "https://localhost:8080/"
        },
        "id": "K0eHQtM2nxsV",
        "outputId": "78c48a51-e415-4d1c-9c0b-8ae77718d5e8"
      },
      "execution_count": 66,
      "outputs": [
        {
          "output_type": "stream",
          "name": "stdout",
          "text": [
            "3.14\n",
            "3.14\n",
            "\n",
            "\n",
            "Enter your python score: 100\n",
            "100\n"
          ]
        }
      ]
    },
    {
      "cell_type": "markdown",
      "source": [
        "###Observations: Variable and input() statement\n",
        "*   We can have variables comprising uppercase and lowercase alphabets, numbers and underscore symbol: _ \n",
        "*   We can store various tpyes of values like single character(alphabet or number character), string(group of characters, sentences) and numerical values(integers, float-decimals..).\n",
        "*   Variable A and variable a are NOT same (variables are case sensitive).\n",
        "*   We use ' ' or \" \" to let know python that its a string and for number values no quotes are required unless they are a character.\n",
        "*   We can take the value of the variable from output using input() statement.\n",
        "*   input() statement takes values and store them as a string by default.\n",
        "*   We can add strings inside input() statement."
      ],
      "metadata": {
        "id": "BgWSpi6zvAR2"
      }
    },
    {
      "cell_type": "markdown",
      "source": [
        "###Undesirable results: variable and input() statement"
      ],
      "metadata": {
        "id": "_-FjuFG7zebM"
      }
    },
    {
      "cell_type": "code",
      "source": [
        "#some words are reserved in pyton that cannot be used as variables\n",
        "True = 'yes'"
      ],
      "metadata": {
        "colab": {
          "base_uri": "https://localhost:8080/",
          "height": 135
        },
        "id": "uckEBG6Cpqbl",
        "outputId": "9fb45192-abf2-4910-a0df-81d938e07818"
      },
      "execution_count": 67,
      "outputs": [
        {
          "output_type": "error",
          "ename": "SyntaxError",
          "evalue": "ignored",
          "traceback": [
            "\u001b[0;36m  File \u001b[0;32m\"<ipython-input-67-7b158743e232>\"\u001b[0;36m, line \u001b[0;32m2\u001b[0m\n\u001b[0;31m    True = 'yes'\u001b[0m\n\u001b[0m                ^\u001b[0m\n\u001b[0;31mSyntaxError\u001b[0m\u001b[0;31m:\u001b[0m can't assign to keyword\n"
          ]
        }
      ]
    },
    {
      "cell_type": "code",
      "source": [
        "#No gaps/blank space is allowed in between the name of a variable\n",
        "my name = \"Abdullah\""
      ],
      "metadata": {
        "colab": {
          "base_uri": "https://localhost:8080/",
          "height": 135
        },
        "id": "uLX9hG0fAyq4",
        "outputId": "cdfe427c-964e-4603-af92-8beedfd198b5"
      },
      "execution_count": 68,
      "outputs": [
        {
          "output_type": "error",
          "ename": "SyntaxError",
          "evalue": "ignored",
          "traceback": [
            "\u001b[0;36m  File \u001b[0;32m\"<ipython-input-68-52b67c6d6518>\"\u001b[0;36m, line \u001b[0;32m2\u001b[0m\n\u001b[0;31m    my name = \"Abdullah\"\u001b[0m\n\u001b[0m          ^\u001b[0m\n\u001b[0;31mSyntaxError\u001b[0m\u001b[0;31m:\u001b[0m invalid syntax\n"
          ]
        }
      ]
    },
    {
      "cell_type": "code",
      "source": [
        "#eventhough we can use numbers in variable names, they cannot begin with numbers\n",
        "1a = 103"
      ],
      "metadata": {
        "colab": {
          "base_uri": "https://localhost:8080/",
          "height": 135
        },
        "id": "OUqeFqzMzriD",
        "outputId": "3f9dcb1f-8c1e-4e7b-8b14-0d436d0db818"
      },
      "execution_count": 69,
      "outputs": [
        {
          "output_type": "error",
          "ename": "SyntaxError",
          "evalue": "ignored",
          "traceback": [
            "\u001b[0;36m  File \u001b[0;32m\"<ipython-input-69-bd2809f3e233>\"\u001b[0;36m, line \u001b[0;32m2\u001b[0m\n\u001b[0;31m    1a = 103\u001b[0m\n\u001b[0m     ^\u001b[0m\n\u001b[0;31mSyntaxError\u001b[0m\u001b[0;31m:\u001b[0m invalid syntax\n"
          ]
        }
      ]
    },
    {
      "cell_type": "code",
      "source": [
        "#No quotes are acceptable in variable name\n",
        "'a1' = 10"
      ],
      "metadata": {
        "colab": {
          "base_uri": "https://localhost:8080/",
          "height": 135
        },
        "id": "Wv7-lMpI0fFI",
        "outputId": "07d8ee6b-9834-4172-d12d-6693df5ffcef"
      },
      "execution_count": 70,
      "outputs": [
        {
          "output_type": "error",
          "ename": "SyntaxError",
          "evalue": "ignored",
          "traceback": [
            "\u001b[0;36m  File \u001b[0;32m\"<ipython-input-70-477145d17287>\"\u001b[0;36m, line \u001b[0;32m2\u001b[0m\n\u001b[0;31m    'a1' = 10\u001b[0m\n\u001b[0m             ^\u001b[0m\n\u001b[0;31mSyntaxError\u001b[0m\u001b[0;31m:\u001b[0m can't assign to literal\n"
          ]
        }
      ]
    },
    {
      "cell_type": "code",
      "source": [
        "#recap c = '10' and A = 100, c is string and A is an integer, they cannot be \n",
        "# added as they are of different data types\n",
        "print(c+A)"
      ],
      "metadata": {
        "colab": {
          "base_uri": "https://localhost:8080/",
          "height": 208
        },
        "id": "CNLJkQrU1vzj",
        "outputId": "fa814ea1-a49d-4f1f-ae3e-b00b88538469"
      },
      "execution_count": 71,
      "outputs": [
        {
          "output_type": "error",
          "ename": "TypeError",
          "evalue": "ignored",
          "traceback": [
            "\u001b[0;31m---------------------------------------------------------------------------\u001b[0m",
            "\u001b[0;31mTypeError\u001b[0m                                 Traceback (most recent call last)",
            "\u001b[0;32m<ipython-input-71-96acf3f879dc>\u001b[0m in \u001b[0;36m<module>\u001b[0;34m()\u001b[0m\n\u001b[1;32m      1\u001b[0m \u001b[0;31m#recap c = '10' and A = 100, c is string and A is an integer, they cannot be\u001b[0m\u001b[0;34m\u001b[0m\u001b[0;34m\u001b[0m\u001b[0;34m\u001b[0m\u001b[0m\n\u001b[1;32m      2\u001b[0m \u001b[0;31m# added as they are of different data types\u001b[0m\u001b[0;34m\u001b[0m\u001b[0;34m\u001b[0m\u001b[0;34m\u001b[0m\u001b[0m\n\u001b[0;32m----> 3\u001b[0;31m \u001b[0mprint\u001b[0m\u001b[0;34m(\u001b[0m\u001b[0mc\u001b[0m\u001b[0;34m+\u001b[0m\u001b[0mA\u001b[0m\u001b[0;34m)\u001b[0m\u001b[0;34m\u001b[0m\u001b[0;34m\u001b[0m\u001b[0m\n\u001b[0m",
            "\u001b[0;31mTypeError\u001b[0m: can only concatenate str (not \"int\") to str"
          ]
        }
      ]
    },
    {
      "cell_type": "code",
      "source": [
        "#As PI is assigned a value using input() statement, it stores a string of 3.14\n",
        "#'3.14' but not as 3.14, therefore we cannot add/concatenate integer to a string\n",
        "print(PI + 10)"
      ],
      "metadata": {
        "colab": {
          "base_uri": "https://localhost:8080/",
          "height": 208
        },
        "id": "Mmd96N782oJE",
        "outputId": "cad82211-2c59-4e44-a88d-fa12e180c231"
      },
      "execution_count": 72,
      "outputs": [
        {
          "output_type": "error",
          "ename": "TypeError",
          "evalue": "ignored",
          "traceback": [
            "\u001b[0;31m---------------------------------------------------------------------------\u001b[0m",
            "\u001b[0;31mTypeError\u001b[0m                                 Traceback (most recent call last)",
            "\u001b[0;32m<ipython-input-72-29427fd23cc3>\u001b[0m in \u001b[0;36m<module>\u001b[0;34m()\u001b[0m\n\u001b[1;32m      1\u001b[0m \u001b[0;31m#As PI is assigned a value using input() statement, it stores a string of 3.14\u001b[0m\u001b[0;34m\u001b[0m\u001b[0;34m\u001b[0m\u001b[0;34m\u001b[0m\u001b[0m\n\u001b[1;32m      2\u001b[0m \u001b[0;31m#'3.14' but not as 3.14, therefore we cannot add/concatenate integer to a string\u001b[0m\u001b[0;34m\u001b[0m\u001b[0;34m\u001b[0m\u001b[0;34m\u001b[0m\u001b[0m\n\u001b[0;32m----> 3\u001b[0;31m \u001b[0mprint\u001b[0m\u001b[0;34m(\u001b[0m\u001b[0mPI\u001b[0m \u001b[0;34m+\u001b[0m \u001b[0;36m10\u001b[0m\u001b[0;34m)\u001b[0m\u001b[0;34m\u001b[0m\u001b[0;34m\u001b[0m\u001b[0m\n\u001b[0m",
            "\u001b[0;31mTypeError\u001b[0m: can only concatenate str (not \"int\") to str"
          ]
        }
      ]
    },
    {
      "cell_type": "code",
      "source": [
        "#Variable name is case sensitive, pi != PI\n",
        "print(pi)"
      ],
      "metadata": {
        "colab": {
          "base_uri": "https://localhost:8080/",
          "height": 190
        },
        "id": "I5szRs2K3SIX",
        "outputId": "59f752c8-8ac9-4aa1-b172-3e4ade64b4ff"
      },
      "execution_count": 73,
      "outputs": [
        {
          "output_type": "error",
          "ename": "NameError",
          "evalue": "ignored",
          "traceback": [
            "\u001b[0;31m---------------------------------------------------------------------------\u001b[0m",
            "\u001b[0;31mNameError\u001b[0m                                 Traceback (most recent call last)",
            "\u001b[0;32m<ipython-input-73-79998b902f05>\u001b[0m in \u001b[0;36m<module>\u001b[0;34m()\u001b[0m\n\u001b[1;32m      1\u001b[0m \u001b[0;31m#Variable name is case sensitive, pi != PI\u001b[0m\u001b[0;34m\u001b[0m\u001b[0;34m\u001b[0m\u001b[0;34m\u001b[0m\u001b[0m\n\u001b[0;32m----> 2\u001b[0;31m \u001b[0mprint\u001b[0m\u001b[0;34m(\u001b[0m\u001b[0mpi\u001b[0m\u001b[0;34m)\u001b[0m\u001b[0;34m\u001b[0m\u001b[0;34m\u001b[0m\u001b[0m\n\u001b[0m",
            "\u001b[0;31mNameError\u001b[0m: name 'pi' is not defined"
          ]
        }
      ]
    },
    {
      "cell_type": "markdown",
      "source": [
        "###Additional information: Variables and input() statement"
      ],
      "metadata": {
        "id": "XBXlowQO4T2l"
      }
    },
    {
      "cell_type": "code",
      "source": [
        "#input() assigned a string value called Ayyan to n\n",
        "#therefore n = \"Ayyan\"\n",
        "#print() have the value of name added by typing name in between two commas: ,name,\n",
        "# note that the string before n is closed and string, thereafter, is opened using \"\n",
        "name = input()\n",
        "print(\"Hi\",n)\n",
        "print(\"Hello\",name,\"how are you?\")"
      ],
      "metadata": {
        "colab": {
          "base_uri": "https://localhost:8080/"
        },
        "id": "4h3aIBSy4Dbu",
        "outputId": "3e0024ae-de7e-445d-b223-d43a2a161b81"
      },
      "execution_count": 75,
      "outputs": [
        {
          "output_type": "stream",
          "name": "stdout",
          "text": [
            "Ayyaan\n",
            "Hi Ayyaan\n",
            "Hello Ayyaan how are you?\n"
          ]
        }
      ]
    },
    {
      "cell_type": "code",
      "source": [
        "#Genetally input() takes value as a string, we are converting it into an integer\n",
        "#besides int, we can use float, string ... \n",
        "kbc = int(input(\"Enter the value you have won: \"))\n",
        "print(kbc)\n",
        "print(kbc*10)  #It will not modify the variable kbc but gives value, ten times the kbc\n",
        "print(float(kbc))  #It will not modify the variable kbc"
      ],
      "metadata": {
        "id": "UWVDpFNd4mVX",
        "colab": {
          "base_uri": "https://localhost:8080/"
        },
        "outputId": "8c596aea-b6df-44d6-ae13-41ec6f93f85f"
      },
      "execution_count": 48,
      "outputs": [
        {
          "output_type": "stream",
          "name": "stdout",
          "text": [
            "Enter the value you have won: 10000000\n",
            "10000000\n",
            "100000000\n",
            "10000000.0\n"
          ]
        }
      ]
    },
    {
      "cell_type": "code",
      "source": [
        "#We can modify value in input() using .lower() and .upper() to obtain lowercase\n",
        "# and uppercase values respectively \n",
        "first_name = input(\"Enter your first name: \").upper()\n",
        "last_name = input(\"Enter your first name: \").lower()\n",
        "\n",
        "print('\\nMy first name is' ,first_name, f'and the last name is {last_name}')\n",
        "#Observe the different ways of calling the variables first_name and last_name"
      ],
      "metadata": {
        "colab": {
          "base_uri": "https://localhost:8080/"
        },
        "id": "S5F9O5GA_-Tj",
        "outputId": "f07710e4-e7f5-47e8-a0f2-b75fbbc16797"
      },
      "execution_count": 79,
      "outputs": [
        {
          "output_type": "stream",
          "name": "stdout",
          "text": [
            "Enter your first name: abdullah\n",
            "Enter your first name: Bin Mohammed\n",
            "\n",
            "My first name is ABDULLAH and the last name is bin mohammed\n"
          ]
        }
      ]
    },
    {
      "cell_type": "code",
      "source": [
        "#We cannot have multiple values/literals assigned to a variable, rather \n",
        "#varaible stores the final literal provided to it.\n",
        "unhealthy_drinks = 'Pepsi'\n",
        "unhealthy_drinks = 'coca cola'\n",
        "print(unhealthy_drinks)"
      ],
      "metadata": {
        "colab": {
          "base_uri": "https://localhost:8080/"
        },
        "id": "wsUSF9lsBNSH",
        "outputId": "3184316b-e031-49d9-8b73-db6e9899949c"
      },
      "execution_count": 80,
      "outputs": [
        {
          "output_type": "stream",
          "name": "stdout",
          "text": [
            "coca cola\n"
          ]
        }
      ]
    }
  ]
}